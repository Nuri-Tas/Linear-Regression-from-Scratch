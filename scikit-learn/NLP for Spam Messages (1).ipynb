{
 "cells": [
  {
   "cell_type": "markdown",
   "id": "c61cfa21",
   "metadata": {},
   "source": [
    "In this notebook, we will try to distinguish spam messages from ham messages using nltk."
   ]
  },
  {
   "cell_type": "code",
   "execution_count": 1,
   "id": "319c8e5d",
   "metadata": {},
   "outputs": [],
   "source": [
    "import nltk"
   ]
  },
  {
   "cell_type": "code",
   "execution_count": 19,
   "id": "53b7d020",
   "metadata": {},
   "outputs": [],
   "source": [
    "#nltk.download_shell()\n",
    "from nltk.corpus import stopwords"
   ]
  },
  {
   "cell_type": "code",
   "execution_count": 3,
   "id": "02323784",
   "metadata": {},
   "outputs": [],
   "source": [
    "import numpy as np\n",
    "import pandas as pd"
   ]
  },
  {
   "cell_type": "markdown",
   "id": "fb1d4c6a",
   "metadata": {},
   "source": [
    "Get the all messages as a list"
   ]
  },
  {
   "cell_type": "code",
   "execution_count": 4,
   "id": "0800ebfb",
   "metadata": {},
   "outputs": [],
   "source": [
    "messages = [line.rstrip() for line in open('C:/Users/Lenovo/Desktop/datasets/SMSSpamCollection')]"
   ]
  },
  {
   "cell_type": "code",
   "execution_count": 5,
   "id": "25470f48",
   "metadata": {},
   "outputs": [
    {
     "data": {
      "text/plain": [
       "5574"
      ]
     },
     "execution_count": 5,
     "metadata": {},
     "output_type": "execute_result"
    }
   ],
   "source": [
    "len(messages)"
   ]
  },
  {
   "cell_type": "markdown",
   "id": "443d3881",
   "metadata": {},
   "source": [
    "Print the first 10 messages and look at how spam messages are different than the ham ones."
   ]
  },
  {
   "cell_type": "code",
   "execution_count": 6,
   "id": "f5fbb9fd",
   "metadata": {},
   "outputs": [
    {
     "name": "stdout",
     "output_type": "stream",
     "text": [
      "0 ham\tGo until jurong point, crazy.. Available only in bugis n great world la e buffet... Cine there got amore wat...\n",
      "1 ham\tOk lar... Joking wif u oni...\n",
      "2 spam\tFree entry in 2 a wkly comp to win FA Cup final tkts 21st May 2005. Text FA to 87121 to receive entry question(std txt rate)T&C's apply 08452810075over18's\n",
      "3 ham\tU dun say so early hor... U c already then say...\n",
      "4 ham\tNah I don't think he goes to usf, he lives around here though\n",
      "5 spam\tFreeMsg Hey there darling it's been 3 week's now and no word back! I'd like some fun you up for it still? Tb ok! XxX std chgs to send, Â£1.50 to rcv\n",
      "6 ham\tEven my brother is not like to speak with me. They treat me like aids patent.\n",
      "7 ham\tAs per your request 'Melle Melle (Oru Minnaminunginte Nurungu Vettam)' has been set as your callertune for all Callers. Press *9 to copy your friends Callertune\n",
      "8 spam\tWINNER!! As a valued network customer you have been selected to receivea Â£900 prize reward! To claim call 09061701461. Claim code KL341. Valid 12 hours only.\n",
      "9 spam\tHad your mobile 11 months or more? U R entitled to Update to the latest colour mobiles with camera for Free! Call The Mobile Update Co FREE on 08002986030\n"
     ]
    }
   ],
   "source": [
    "for no, msg in enumerate(messages[:10]):\n",
    "    print(no, msg)"
   ]
  },
  {
   "cell_type": "markdown",
   "id": "3e943e41",
   "metadata": {},
   "source": [
    "Convert the list into a dataframe showing the message and whether it is spam or ham."
   ]
  },
  {
   "cell_type": "code",
   "execution_count": 7,
   "id": "67a4e961",
   "metadata": {},
   "outputs": [
    {
     "data": {
      "text/html": [
       "<div>\n",
       "<style scoped>\n",
       "    .dataframe tbody tr th:only-of-type {\n",
       "        vertical-align: middle;\n",
       "    }\n",
       "\n",
       "    .dataframe tbody tr th {\n",
       "        vertical-align: top;\n",
       "    }\n",
       "\n",
       "    .dataframe thead th {\n",
       "        text-align: right;\n",
       "    }\n",
       "</style>\n",
       "<table border=\"1\" class=\"dataframe\">\n",
       "  <thead>\n",
       "    <tr style=\"text-align: right;\">\n",
       "      <th></th>\n",
       "      <th>class</th>\n",
       "      <th>message</th>\n",
       "    </tr>\n",
       "  </thead>\n",
       "  <tbody>\n",
       "    <tr>\n",
       "      <th>0</th>\n",
       "      <td>ham</td>\n",
       "      <td>Go until jurong point, crazy.. Available only ...</td>\n",
       "    </tr>\n",
       "    <tr>\n",
       "      <th>1</th>\n",
       "      <td>ham</td>\n",
       "      <td>Ok lar... Joking wif u oni...</td>\n",
       "    </tr>\n",
       "    <tr>\n",
       "      <th>2</th>\n",
       "      <td>spam</td>\n",
       "      <td>Free entry in 2 a wkly comp to win FA Cup fina...</td>\n",
       "    </tr>\n",
       "    <tr>\n",
       "      <th>3</th>\n",
       "      <td>ham</td>\n",
       "      <td>U dun say so early hor... U c already then say...</td>\n",
       "    </tr>\n",
       "    <tr>\n",
       "      <th>4</th>\n",
       "      <td>ham</td>\n",
       "      <td>Nah I don't think he goes to usf, he lives aro...</td>\n",
       "    </tr>\n",
       "  </tbody>\n",
       "</table>\n",
       "</div>"
      ],
      "text/plain": [
       "  class                                            message\n",
       "0   ham  Go until jurong point, crazy.. Available only ...\n",
       "1   ham                      Ok lar... Joking wif u oni...\n",
       "2  spam  Free entry in 2 a wkly comp to win FA Cup fina...\n",
       "3   ham  U dun say so early hor... U c already then say...\n",
       "4   ham  Nah I don't think he goes to usf, he lives aro..."
      ]
     },
     "execution_count": 7,
     "metadata": {},
     "output_type": "execute_result"
    }
   ],
   "source": [
    "df = pd.read_csv('C:/Users/Lenovo/Desktop/datasets/SMSSpamCollection', sep='\\t', names=['class', 'message'])\n",
    "df.head()"
   ]
  },
  {
   "cell_type": "code",
   "execution_count": 8,
   "id": "5b840141",
   "metadata": {},
   "outputs": [
    {
     "data": {
      "text/html": [
       "<div>\n",
       "<style scoped>\n",
       "    .dataframe tbody tr th:only-of-type {\n",
       "        vertical-align: middle;\n",
       "    }\n",
       "\n",
       "    .dataframe tbody tr th {\n",
       "        vertical-align: top;\n",
       "    }\n",
       "\n",
       "    .dataframe thead th {\n",
       "        text-align: right;\n",
       "    }\n",
       "</style>\n",
       "<table border=\"1\" class=\"dataframe\">\n",
       "  <thead>\n",
       "    <tr style=\"text-align: right;\">\n",
       "      <th></th>\n",
       "      <th>class</th>\n",
       "      <th>message</th>\n",
       "    </tr>\n",
       "  </thead>\n",
       "  <tbody>\n",
       "    <tr>\n",
       "      <th>count</th>\n",
       "      <td>5572</td>\n",
       "      <td>5572</td>\n",
       "    </tr>\n",
       "    <tr>\n",
       "      <th>unique</th>\n",
       "      <td>2</td>\n",
       "      <td>5169</td>\n",
       "    </tr>\n",
       "    <tr>\n",
       "      <th>top</th>\n",
       "      <td>ham</td>\n",
       "      <td>Sorry, I'll call later</td>\n",
       "    </tr>\n",
       "    <tr>\n",
       "      <th>freq</th>\n",
       "      <td>4825</td>\n",
       "      <td>30</td>\n",
       "    </tr>\n",
       "  </tbody>\n",
       "</table>\n",
       "</div>"
      ],
      "text/plain": [
       "       class                 message\n",
       "count   5572                    5572\n",
       "unique     2                    5169\n",
       "top      ham  Sorry, I'll call later\n",
       "freq    4825                      30"
      ]
     },
     "execution_count": 8,
     "metadata": {},
     "output_type": "execute_result"
    }
   ],
   "source": [
    "df.describe()"
   ]
  },
  {
   "cell_type": "markdown",
   "id": "dcac2ff2",
   "metadata": {},
   "source": [
    "The number of unique messages are less than the total number of messages, which makes sense as many messages could be sort of 'okay', 'sorry', etc. Print out the top 10 messages that are repeated most."
   ]
  },
  {
   "cell_type": "code",
   "execution_count": 9,
   "id": "f493d51a",
   "metadata": {},
   "outputs": [
    {
     "data": {
      "text/plain": [
       "message\n",
       "Sorry, I'll call later                                                                                                                                                                 30\n",
       "I cant pick the phone right now. Pls send a message                                                                                                                                    12\n",
       "Ok...                                                                                                                                                                                  10\n",
       "Ok                                                                                                                                                                                      4\n",
       "Okie                                                                                                                                                                                    4\n",
       "7 wonders in My WORLD 7th You 6th Ur style 5th Ur smile 4th Ur Personality 3rd Ur Nature 2nd Ur SMS and 1st \"Ur Lovely Friendship\"... good morning dear                                 4\n",
       "Wen ur lovable bcums angry wid u, dnt take it seriously.. Coz being angry is d most childish n true way of showing deep affection, care n luv!.. kettoda manda... Have nice day da.     4\n",
       "Your opinion about me? 1. Over 2. Jada 3. Kusruthi 4. Lovable 5. Silent 6. Spl character 7. Not matured 8. Stylish 9. Simple Pls reply..                                                4\n",
       "Please call our customer service representative on FREEPHONE 0808 145 4742 between 9am-11pm as you have WON a guaranteed £1000 cash or £5000 prize!                                     4\n",
       "Ok.                                                                                                                                                                                     4\n",
       "dtype: int64"
      ]
     },
     "execution_count": 9,
     "metadata": {},
     "output_type": "execute_result"
    }
   ],
   "source": [
    "df.groupby('message').size().sort_values(ascending=False).head(10)"
   ]
  },
  {
   "cell_type": "markdown",
   "id": "f7d40df7",
   "metadata": {},
   "source": [
    "Find out how many messages there are in each message class, with the number of unique messages."
   ]
  },
  {
   "cell_type": "code",
   "execution_count": 10,
   "id": "b98b8cca",
   "metadata": {},
   "outputs": [
    {
     "data": {
      "text/html": [
       "<div>\n",
       "<style scoped>\n",
       "    .dataframe tbody tr th:only-of-type {\n",
       "        vertical-align: middle;\n",
       "    }\n",
       "\n",
       "    .dataframe tbody tr th {\n",
       "        vertical-align: top;\n",
       "    }\n",
       "\n",
       "    .dataframe thead tr th {\n",
       "        text-align: left;\n",
       "    }\n",
       "\n",
       "    .dataframe thead tr:last-of-type th {\n",
       "        text-align: right;\n",
       "    }\n",
       "</style>\n",
       "<table border=\"1\" class=\"dataframe\">\n",
       "  <thead>\n",
       "    <tr>\n",
       "      <th></th>\n",
       "      <th colspan=\"4\" halign=\"left\">message</th>\n",
       "    </tr>\n",
       "    <tr>\n",
       "      <th></th>\n",
       "      <th>count</th>\n",
       "      <th>unique</th>\n",
       "      <th>top</th>\n",
       "      <th>freq</th>\n",
       "    </tr>\n",
       "    <tr>\n",
       "      <th>class</th>\n",
       "      <th></th>\n",
       "      <th></th>\n",
       "      <th></th>\n",
       "      <th></th>\n",
       "    </tr>\n",
       "  </thead>\n",
       "  <tbody>\n",
       "    <tr>\n",
       "      <th>ham</th>\n",
       "      <td>4825</td>\n",
       "      <td>4516</td>\n",
       "      <td>Sorry, I'll call later</td>\n",
       "      <td>30</td>\n",
       "    </tr>\n",
       "    <tr>\n",
       "      <th>spam</th>\n",
       "      <td>747</td>\n",
       "      <td>653</td>\n",
       "      <td>Please call our customer service representativ...</td>\n",
       "      <td>4</td>\n",
       "    </tr>\n",
       "  </tbody>\n",
       "</table>\n",
       "</div>"
      ],
      "text/plain": [
       "      message                                                               \n",
       "        count unique                                                top freq\n",
       "class                                                                       \n",
       "ham      4825   4516                             Sorry, I'll call later   30\n",
       "spam      747    653  Please call our customer service representativ...    4"
      ]
     },
     "execution_count": 10,
     "metadata": {},
     "output_type": "execute_result"
    }
   ],
   "source": [
    "df.groupby('class').describe()"
   ]
  },
  {
   "cell_type": "code",
   "execution_count": 11,
   "id": "ebe4c0bd",
   "metadata": {},
   "outputs": [
    {
     "ename": "SyntaxError",
     "evalue": "invalid syntax (<ipython-input-11-72e5f5b36c26>, line 1)",
     "output_type": "error",
     "traceback": [
      "\u001b[1;36m  File \u001b[1;32m\"<ipython-input-11-72e5f5b36c26>\"\u001b[1;36m, line \u001b[1;32m1\u001b[0m\n\u001b[1;33m    Add a new column showing the length of characters in each message.\u001b[0m\n\u001b[1;37m        ^\u001b[0m\n\u001b[1;31mSyntaxError\u001b[0m\u001b[1;31m:\u001b[0m invalid syntax\n"
     ]
    }
   ],
   "source": [
    "Add a new column showing the length of characters in each message."
   ]
  },
  {
   "cell_type": "code",
   "execution_count": 12,
   "id": "0ce38626",
   "metadata": {},
   "outputs": [
    {
     "data": {
      "text/html": [
       "<div>\n",
       "<style scoped>\n",
       "    .dataframe tbody tr th:only-of-type {\n",
       "        vertical-align: middle;\n",
       "    }\n",
       "\n",
       "    .dataframe tbody tr th {\n",
       "        vertical-align: top;\n",
       "    }\n",
       "\n",
       "    .dataframe thead th {\n",
       "        text-align: right;\n",
       "    }\n",
       "</style>\n",
       "<table border=\"1\" class=\"dataframe\">\n",
       "  <thead>\n",
       "    <tr style=\"text-align: right;\">\n",
       "      <th></th>\n",
       "      <th>class</th>\n",
       "      <th>message</th>\n",
       "      <th>length</th>\n",
       "    </tr>\n",
       "  </thead>\n",
       "  <tbody>\n",
       "    <tr>\n",
       "      <th>1235</th>\n",
       "      <td>ham</td>\n",
       "      <td>Hello-/@drivby-:0quit edrunk sorry iff pthis m...</td>\n",
       "      <td>125</td>\n",
       "    </tr>\n",
       "    <tr>\n",
       "      <th>3596</th>\n",
       "      <td>ham</td>\n",
       "      <td>Huh but i cant go 2 ur house empty handed right?</td>\n",
       "      <td>48</td>\n",
       "    </tr>\n",
       "    <tr>\n",
       "      <th>271</th>\n",
       "      <td>ham</td>\n",
       "      <td>Come to mu, we're sorting out our narcotics si...</td>\n",
       "      <td>53</td>\n",
       "    </tr>\n",
       "    <tr>\n",
       "      <th>1903</th>\n",
       "      <td>ham</td>\n",
       "      <td>My sister got placed in birla soft da:-)</td>\n",
       "      <td>40</td>\n",
       "    </tr>\n",
       "    <tr>\n",
       "      <th>1614</th>\n",
       "      <td>ham</td>\n",
       "      <td>Thnx dude. u guys out 2nite?</td>\n",
       "      <td>28</td>\n",
       "    </tr>\n",
       "  </tbody>\n",
       "</table>\n",
       "</div>"
      ],
      "text/plain": [
       "     class                                            message  length\n",
       "1235   ham  Hello-/@drivby-:0quit edrunk sorry iff pthis m...     125\n",
       "3596   ham   Huh but i cant go 2 ur house empty handed right?      48\n",
       "271    ham  Come to mu, we're sorting out our narcotics si...      53\n",
       "1903   ham           My sister got placed in birla soft da:-)      40\n",
       "1614   ham                       Thnx dude. u guys out 2nite?      28"
      ]
     },
     "execution_count": 12,
     "metadata": {},
     "output_type": "execute_result"
    }
   ],
   "source": [
    "df['length'] = df.message.apply(len)\n",
    "df.sample(5)"
   ]
  },
  {
   "cell_type": "markdown",
   "id": "cd007bcf",
   "metadata": {},
   "source": [
    "How are the length of messages distributed?"
   ]
  },
  {
   "cell_type": "code",
   "execution_count": 13,
   "id": "88c31d5d",
   "metadata": {},
   "outputs": [
    {
     "data": {
      "image/png": "[encoded data removed]",
      "text/plain": [
       "<Figure size 864x432 with 1 Axes>"
      ]
     },
     "metadata": {
      "needs_background": "light"
     },
     "output_type": "display_data"
    }
   ],
   "source": [
    "df['length'].hist(bins=60, figsize=(12,6));"
   ]
  },
  {
   "cell_type": "markdown",
   "id": "6a35d0f1",
   "metadata": {},
   "source": [
    "We see that we have only a couple messages whose lengths are greater than 600. Print the message with the largest length."
   ]
  },
  {
   "cell_type": "code",
   "execution_count": 14,
   "id": "0c49755a",
   "metadata": {},
   "outputs": [
    {
     "data": {
      "text/plain": [
       "\"For me the love should start with attraction.i should feel that I need her every time around me.she should be the first thing which comes in my thoughts.I would start the day and end it with her.she should be there every time I dream.love will be then when my every breath has her name.my life should happen around her.my life will be named to her.I would cry for her.will give all my happiness and take all her sorrows.I will be ready to fight with anyone for her.I will be in love when I will be doing the craziest things for her.love will be when I don't have to proove anyone that my girl is the most beautiful lady on the whole planet.I will always be singing praises for her.love will be when I start up making chicken curry and end up makiing sambar.life will be the most beautiful then.will get every morning and thank god for the day because she is with me.I would like to say a lot..will tell later..\""
      ]
     },
     "execution_count": 14,
     "metadata": {},
     "output_type": "execute_result"
    }
   ],
   "source": [
    "df[df.length == max(df.length)].message.iloc[0]"
   ]
  },
  {
   "cell_type": "markdown",
   "id": "18c03172",
   "metadata": {},
   "source": [
    "Demonstrate how the length of messages are distributed in each message class."
   ]
  },
  {
   "cell_type": "code",
   "execution_count": 15,
   "id": "2c15199b",
   "metadata": {},
   "outputs": [
    {
     "data": {
      "image/png": "[encoded data removed]",
      "text/plain": [
       "<Figure size 864x432 with 2 Axes>"
      ]
     },
     "metadata": {
      "needs_background": "light"
     },
     "output_type": "display_data"
    }
   ],
   "source": [
    "df.hist(column='length', by='class', bins=60, figsize=(12,6));"
   ]
  },
  {
   "cell_type": "markdown",
   "id": "86b9fae8",
   "metadata": {},
   "source": [
    "We notice that the spam messages tend to be longer than the ham messages."
   ]
  },
  {
   "cell_type": "code",
   "execution_count": 16,
   "id": "a34c8e88",
   "metadata": {},
   "outputs": [
    {
     "data": {
      "text/plain": [
       "'!\"#$%&\\'()*+,-./:;<=>?@[\\\\]^_`{|}~'"
      ]
     },
     "execution_count": 16,
     "metadata": {},
     "output_type": "execute_result"
    }
   ],
   "source": [
    "import string\n",
    "string.punctuation"
   ]
  },
  {
   "cell_type": "markdown",
   "id": "ee3c40ed",
   "metadata": {},
   "source": [
    "Define a function that will remove punctutations and stopwords from a message, and will return a list of remaining words."
   ]
  },
  {
   "cell_type": "code",
   "execution_count": 17,
   "id": "dbde59a7",
   "metadata": {},
   "outputs": [],
   "source": [
    "def no_stopunc(msg):    \n",
    "    nopunc = [item for item in msg if item not in string.punctuation]\n",
    "    nopunc_word = ''.join(nopunc)\n",
    "    \n",
    "    no_stop = [item for item in nopunc_word.split() if item.lower() not in stopwords.words('english')]\n",
    "    return no_stop "
   ]
  },
  {
   "cell_type": "code",
   "execution_count": 20,
   "id": "d58631cd",
   "metadata": {},
   "outputs": [
    {
     "data": {
      "text/plain": [
       "0       [Go, jurong, point, crazy, Available, bugis, n...\n",
       "1                          [Ok, lar, Joking, wif, u, oni]\n",
       "2       [Free, entry, 2, wkly, comp, win, FA, Cup, fin...\n",
       "3           [U, dun, say, early, hor, U, c, already, say]\n",
       "4       [Nah, dont, think, goes, usf, lives, around, t...\n",
       "                              ...                        \n",
       "5567    [2nd, time, tried, 2, contact, u, U, £750, Pou...\n",
       "5568                   [ü, b, going, esplanade, fr, home]\n",
       "5569                     [Pity, mood, Soany, suggestions]\n",
       "5570    [guy, bitching, acted, like, id, interested, b...\n",
       "5571                                   [Rofl, true, name]\n",
       "Name: message, Length: 5572, dtype: object"
      ]
     },
     "execution_count": 20,
     "metadata": {},
     "output_type": "execute_result"
    }
   ],
   "source": [
    "df.message.apply(no_stopunc)"
   ]
  },
  {
   "cell_type": "code",
   "execution_count": 21,
   "id": "1c0a2478",
   "metadata": {},
   "outputs": [],
   "source": [
    "from sklearn.feature_extraction.text import CountVectorizer\n",
    "\n",
    "bag_words = CountVectorizer(analyzer=no_stopunc).fit(df.message)"
   ]
  },
  {
   "cell_type": "markdown",
   "id": "f28359ff",
   "metadata": {},
   "source": [
    "How many words are there in the bags of the words of the dataset?"
   ]
  },
  {
   "cell_type": "code",
   "execution_count": 22,
   "id": "fb995b83",
   "metadata": {},
   "outputs": [
    {
     "name": "stdout",
     "output_type": "stream",
     "text": [
      "11425\n"
     ]
    }
   ],
   "source": [
    "print(len(bag_words.vocabulary_))"
   ]
  },
  {
   "cell_type": "markdown",
   "id": "0f2d1b55",
   "metadata": {},
   "source": [
    "Check the bag of words for a specific message."
   ]
  },
  {
   "cell_type": "code",
   "execution_count": 23,
   "id": "446ead04",
   "metadata": {},
   "outputs": [
    {
     "data": {
      "text/plain": [
       "\"Yeah he got in at 2 and was v apologetic. n had fallen out and she was actin like spoilt child and he got caught up in that. Till 2! But we won't go there! Not doing too badly cheers. You? \""
      ]
     },
     "execution_count": 23,
     "metadata": {},
     "output_type": "execute_result"
    }
   ],
   "source": [
    "msg_31 = df.loc[31, 'message']\n",
    "msg_31"
   ]
  },
  {
   "cell_type": "markdown",
   "id": "c181c65f",
   "metadata": {},
   "source": [
    "The bag of words for this message is:"
   ]
  },
  {
   "cell_type": "code",
   "execution_count": 24,
   "id": "4b6e7744",
   "metadata": {},
   "outputs": [
    {
     "name": "stdout",
     "output_type": "stream",
     "text": [
      "  (0, 423)\t2\n",
      "  (0, 3997)\t1\n",
      "  (0, 4416)\t1\n",
      "  (0, 4509)\t1\n",
      "  (0, 4719)\t1\n",
      "  (0, 4898)\t1\n",
      "  (0, 5378)\t1\n",
      "  (0, 5450)\t1\n",
      "  (0, 5483)\t1\n",
      "  (0, 6468)\t1\n",
      "  (0, 6864)\t1\n",
      "  (0, 6906)\t2\n",
      "  (0, 7800)\t1\n",
      "  (0, 8336)\t1\n",
      "  (0, 10005)\t1\n",
      "  (0, 10816)\t1\n",
      "  (0, 11145)\t1\n"
     ]
    }
   ],
   "source": [
    "bow31 = bag_words.transform([msg_31])\n",
    "print(bow31)"
   ]
  },
  {
   "cell_type": "markdown",
   "id": "c9eca335",
   "metadata": {},
   "source": [
    "We can find which words these numbers correspond to as follows:"
   ]
  },
  {
   "cell_type": "code",
   "execution_count": 25,
   "id": "f4d863c5",
   "metadata": {},
   "outputs": [
    {
     "name": "stderr",
     "output_type": "stream",
     "text": [
      "C:\\Users\\Lenovo\\anaconda3\\lib\\site-packages\\sklearn\\utils\\deprecation.py:87: FutureWarning: Function get_feature_names is deprecated; get_feature_names is deprecated in 1.0 and will be removed in 1.2. Please use get_feature_names_out instead.\n",
      "  warnings.warn(msg, category=FutureWarning)\n"
     ]
    },
    {
     "data": {
      "text/plain": [
       "'got'"
      ]
     },
     "execution_count": 25,
     "metadata": {},
     "output_type": "execute_result"
    }
   ],
   "source": [
    "bag_words.get_feature_names()[6906]"
   ]
  },
  {
   "cell_type": "code",
   "execution_count": 28,
   "id": "df7e3161",
   "metadata": {},
   "outputs": [
    {
     "data": {
      "text/plain": [
       "(1, 11425)"
      ]
     },
     "execution_count": 28,
     "metadata": {},
     "output_type": "execute_result"
    }
   ],
   "source": [
    "bow31.shape"
   ]
  },
  {
   "cell_type": "markdown",
   "id": "d313073a",
   "metadata": {},
   "source": [
    "We get 1 times 11425, which is the number of all vocabularies."
   ]
  },
  {
   "cell_type": "markdown",
   "id": "838e2f18",
   "metadata": {},
   "source": [
    "Get the bag-of-words for the all messages."
   ]
  },
  {
   "cell_type": "code",
   "execution_count": 30,
   "id": "59815a39",
   "metadata": {},
   "outputs": [],
   "source": [
    "messages_bow = bag_words.transform(df.message)"
   ]
  },
  {
   "cell_type": "code",
   "execution_count": 31,
   "id": "e6ae2d88",
   "metadata": {},
   "outputs": [
    {
     "data": {
      "text/plain": [
       "(5572, 11425)"
      ]
     },
     "execution_count": 31,
     "metadata": {},
     "output_type": "execute_result"
    }
   ],
   "source": [
    "messages_bow.shape"
   ]
  },
  {
   "cell_type": "markdown",
   "id": "d2cd1880",
   "metadata": {},
   "source": [
    "Namely, there are 11425 different words in total. Check how many of the entries in the count matrix is nonzero."
   ]
  },
  {
   "cell_type": "code",
   "execution_count": 33,
   "id": "7a1545e9",
   "metadata": {},
   "outputs": [
    {
     "data": {
      "text/plain": [
       "50548"
      ]
     },
     "execution_count": 33,
     "metadata": {},
     "output_type": "execute_result"
    }
   ],
   "source": [
    "messages_bow.nnz"
   ]
  },
  {
   "cell_type": "markdown",
   "id": "d0113d85",
   "metadata": {},
   "source": [
    "Find the sparsity of the count matrix."
   ]
  },
  {
   "cell_type": "code",
   "execution_count": 34,
   "id": "cb801a87",
   "metadata": {},
   "outputs": [
    {
     "name": "stdout",
     "output_type": "stream",
     "text": [
      "0.0007940295412668218\n"
     ]
    }
   ],
   "source": [
    "print(messages_bow.nnz / (messages_bow.shape[0] * messages_bow.shape[1]))"
   ]
  },
  {
   "cell_type": "markdown",
   "id": "3d2473b9",
   "metadata": {},
   "source": [
    "Transform the count matrix to a normalized tf-idf representation."
   ]
  },
  {
   "cell_type": "code",
   "execution_count": 40,
   "id": "2e92b29e",
   "metadata": {},
   "outputs": [],
   "source": [
    "from sklearn.feature_extraction.text import TfidfTransformer\n",
    "\n",
    "tfidf = TfidfTransformer()"
   ]
  },
  {
   "cell_type": "code",
   "execution_count": 41,
   "id": "5204a43a",
   "metadata": {},
   "outputs": [
    {
     "data": {
      "text/plain": [
       "TfidfTransformer()"
      ]
     },
     "execution_count": 41,
     "metadata": {},
     "output_type": "execute_result"
    }
   ],
   "source": [
    "tfidf.fit(messages_bow)"
   ]
  },
  {
   "cell_type": "code",
   "execution_count": 43,
   "id": "ed566bb1",
   "metadata": {},
   "outputs": [],
   "source": [
    "tfidf31 = tfidf.transform(bow31)"
   ]
  },
  {
   "cell_type": "code",
   "execution_count": 44,
   "id": "362435e3",
   "metadata": {},
   "outputs": [
    {
     "name": "stdout",
     "output_type": "stream",
     "text": [
      "  (0, 11145)\t0.17915688667152585\n",
      "  (0, 10816)\t0.20238739750262572\n",
      "  (0, 10005)\t0.2839116856226002\n",
      "  (0, 8336)\t0.15485466353225785\n",
      "  (0, 7800)\t0.13465653373058326\n",
      "  (0, 6906)\t0.27540077343506214\n",
      "  (0, 6864)\t0.13296098637468345\n",
      "  (0, 6468)\t0.2839116856226002\n",
      "  (0, 5483)\t0.2618807124600573\n",
      "  (0, 5450)\t0.2839116856226002\n",
      "  (0, 5378)\t0.27102439246811844\n",
      "  (0, 4898)\t0.2839116856226002\n",
      "  (0, 4719)\t0.2839116856226002\n",
      "  (0, 4509)\t0.2839116856226002\n",
      "  (0, 4416)\t0.17688563669480084\n",
      "  (0, 3997)\t0.2839116856226002\n",
      "  (0, 423)\t0.23181979751136056\n"
     ]
    }
   ],
   "source": [
    "print(tfidf31)"
   ]
  },
  {
   "cell_type": "code",
   "execution_count": 53,
   "id": "a595c127",
   "metadata": {},
   "outputs": [],
   "source": [
    "tfidf_messages = tfidf.transform(messages_bow)"
   ]
  },
  {
   "cell_type": "markdown",
   "id": "1a37eeac",
   "metadata": {},
   "source": [
    "Get the idf for the word 'love'"
   ]
  },
  {
   "cell_type": "code",
   "execution_count": 52,
   "id": "548b0a25",
   "metadata": {},
   "outputs": [
    {
     "data": {
      "text/plain": [
       "4.773658523649919"
      ]
     },
     "execution_count": 52,
     "metadata": {},
     "output_type": "execute_result"
    }
   ],
   "source": [
    "tfidf.idf_[bag_words.vocabulary_['love']]"
   ]
  },
  {
   "cell_type": "markdown",
   "id": "89eb89ac",
   "metadata": {},
   "source": [
    "Predict the class of messages with Naive-Bayes algorithm."
   ]
  },
  {
   "cell_type": "code",
   "execution_count": 59,
   "id": "a9ec95bd",
   "metadata": {},
   "outputs": [],
   "source": [
    "from sklearn.naive_bayes import MultinomialNB\n",
    "\n",
    "model = MultinomialNB().fit(tfidf_messages, df['class'])"
   ]
  },
  {
   "cell_type": "code",
   "execution_count": 60,
   "id": "04165ffe",
   "metadata": {},
   "outputs": [
    {
     "data": {
      "text/plain": [
       "array(['ham'], dtype='<U4')"
      ]
     },
     "execution_count": 60,
     "metadata": {},
     "output_type": "execute_result"
    }
   ],
   "source": [
    "model.predict(bow31)"
   ]
  },
  {
   "cell_type": "markdown",
   "id": "a723968e",
   "metadata": {},
   "source": [
    "Check the class of the message:"
   ]
  },
  {
   "cell_type": "code",
   "execution_count": 62,
   "id": "13e331e1",
   "metadata": {},
   "outputs": [
    {
     "data": {
      "text/plain": [
       "'ham'"
      ]
     },
     "execution_count": 62,
     "metadata": {},
     "output_type": "execute_result"
    }
   ],
   "source": [
    "df.loc[31, 'class']"
   ]
  },
  {
   "cell_type": "code",
   "execution_count": 66,
   "id": "808cebea",
   "metadata": {},
   "outputs": [
    {
     "data": {
      "text/html": [
       "<div>\n",
       "<style scoped>\n",
       "    .dataframe tbody tr th:only-of-type {\n",
       "        vertical-align: middle;\n",
       "    }\n",
       "\n",
       "    .dataframe tbody tr th {\n",
       "        vertical-align: top;\n",
       "    }\n",
       "\n",
       "    .dataframe thead th {\n",
       "        text-align: right;\n",
       "    }\n",
       "</style>\n",
       "<table border=\"1\" class=\"dataframe\">\n",
       "  <thead>\n",
       "    <tr style=\"text-align: right;\">\n",
       "      <th></th>\n",
       "      <th>class</th>\n",
       "      <th>message</th>\n",
       "      <th>length</th>\n",
       "    </tr>\n",
       "  </thead>\n",
       "  <tbody>\n",
       "    <tr>\n",
       "      <th>0</th>\n",
       "      <td>ham</td>\n",
       "      <td>Go until jurong point, crazy.. Available only ...</td>\n",
       "      <td>111</td>\n",
       "    </tr>\n",
       "    <tr>\n",
       "      <th>1</th>\n",
       "      <td>ham</td>\n",
       "      <td>Ok lar... Joking wif u oni...</td>\n",
       "      <td>29</td>\n",
       "    </tr>\n",
       "    <tr>\n",
       "      <th>2</th>\n",
       "      <td>spam</td>\n",
       "      <td>Free entry in 2 a wkly comp to win FA Cup fina...</td>\n",
       "      <td>155</td>\n",
       "    </tr>\n",
       "    <tr>\n",
       "      <th>3</th>\n",
       "      <td>ham</td>\n",
       "      <td>U dun say so early hor... U c already then say...</td>\n",
       "      <td>49</td>\n",
       "    </tr>\n",
       "    <tr>\n",
       "      <th>4</th>\n",
       "      <td>ham</td>\n",
       "      <td>Nah I don't think he goes to usf, he lives aro...</td>\n",
       "      <td>61</td>\n",
       "    </tr>\n",
       "    <tr>\n",
       "      <th>...</th>\n",
       "      <td>...</td>\n",
       "      <td>...</td>\n",
       "      <td>...</td>\n",
       "    </tr>\n",
       "    <tr>\n",
       "      <th>5567</th>\n",
       "      <td>spam</td>\n",
       "      <td>This is the 2nd time we have tried 2 contact u...</td>\n",
       "      <td>160</td>\n",
       "    </tr>\n",
       "    <tr>\n",
       "      <th>5568</th>\n",
       "      <td>ham</td>\n",
       "      <td>Will ü b going to esplanade fr home?</td>\n",
       "      <td>36</td>\n",
       "    </tr>\n",
       "    <tr>\n",
       "      <th>5569</th>\n",
       "      <td>ham</td>\n",
       "      <td>Pity, * was in mood for that. So...any other s...</td>\n",
       "      <td>57</td>\n",
       "    </tr>\n",
       "    <tr>\n",
       "      <th>5570</th>\n",
       "      <td>ham</td>\n",
       "      <td>The guy did some bitching but I acted like i'd...</td>\n",
       "      <td>125</td>\n",
       "    </tr>\n",
       "    <tr>\n",
       "      <th>5571</th>\n",
       "      <td>ham</td>\n",
       "      <td>Rofl. Its true to its name</td>\n",
       "      <td>26</td>\n",
       "    </tr>\n",
       "  </tbody>\n",
       "</table>\n",
       "<p>5572 rows × 3 columns</p>\n",
       "</div>"
      ],
      "text/plain": [
       "     class                                            message  length\n",
       "0      ham  Go until jurong point, crazy.. Available only ...     111\n",
       "1      ham                      Ok lar... Joking wif u oni...      29\n",
       "2     spam  Free entry in 2 a wkly comp to win FA Cup fina...     155\n",
       "3      ham  U dun say so early hor... U c already then say...      49\n",
       "4      ham  Nah I don't think he goes to usf, he lives aro...      61\n",
       "...    ...                                                ...     ...\n",
       "5567  spam  This is the 2nd time we have tried 2 contact u...     160\n",
       "5568   ham               Will ü b going to esplanade fr home?      36\n",
       "5569   ham  Pity, * was in mood for that. So...any other s...      57\n",
       "5570   ham  The guy did some bitching but I acted like i'd...     125\n",
       "5571   ham                         Rofl. Its true to its name      26\n",
       "\n",
       "[5572 rows x 3 columns]"
      ]
     },
     "execution_count": 66,
     "metadata": {},
     "output_type": "execute_result"
    }
   ],
   "source": [
    "df"
   ]
  },
  {
   "cell_type": "markdown",
   "id": "b4de675e",
   "metadata": {},
   "source": [
    "# Pipeline"
   ]
  },
  {
   "cell_type": "markdown",
   "id": "e672fb7d",
   "metadata": {},
   "source": [
    "Build a pipeline and predict the classes of the messages the pipeline isn't trained on. Finally, get the metrics of the model."
   ]
  },
  {
   "cell_type": "code",
   "execution_count": 68,
   "id": "f1ec458f",
   "metadata": {},
   "outputs": [],
   "source": [
    "from sklearn.model_selection import train_test_split\n",
    "\n",
    "X = df.message\n",
    "y = df['class']\n",
    "\n",
    "X_train, X_test, y_train, y_test = train_test_split(X, y, test_size=0.2)"
   ]
  },
  {
   "cell_type": "code",
   "execution_count": 69,
   "id": "b05e370d",
   "metadata": {},
   "outputs": [],
   "source": [
    "from sklearn.pipeline import Pipeline\n",
    "\n",
    "pipeline = Pipeline([\n",
    "    ('vectorizer', CountVectorizer(analyzer=no_stopunc)),\n",
    "    ('tfidf', TfidfTransformer()),\n",
    "    ('predict', MultinomialNB())\n",
    "])"
   ]
  },
  {
   "cell_type": "code",
   "execution_count": 70,
   "id": "25db27a1",
   "metadata": {},
   "outputs": [
    {
     "data": {
      "text/plain": [
       "Pipeline(steps=[('vectorizer',\n",
       "                 CountVectorizer(analyzer=<function no_stopunc at 0x0000023CE88CB5E0>)),\n",
       "                ('tfidf', TfidfTransformer()), ('predict', MultinomialNB())])"
      ]
     },
     "execution_count": 70,
     "metadata": {},
     "output_type": "execute_result"
    }
   ],
   "source": [
    "pipeline.fit(X_train, y_train)"
   ]
  },
  {
   "cell_type": "code",
   "execution_count": 71,
   "id": "2495a9b1",
   "metadata": {},
   "outputs": [],
   "source": [
    "predictions = pipeline.predict(X_test)"
   ]
  },
  {
   "cell_type": "code",
   "execution_count": 73,
   "id": "488cd02c",
   "metadata": {},
   "outputs": [
    {
     "name": "stdout",
     "output_type": "stream",
     "text": [
      "[[971   0]\n",
      " [ 42 102]]\n",
      "              precision    recall  f1-score   support\n",
      "\n",
      "         ham       0.96      1.00      0.98       971\n",
      "        spam       1.00      0.71      0.83       144\n",
      "\n",
      "    accuracy                           0.96      1115\n",
      "   macro avg       0.98      0.85      0.90      1115\n",
      "weighted avg       0.96      0.96      0.96      1115\n",
      "\n"
     ]
    }
   ],
   "source": [
    "from sklearn.metrics import classification_report, confusion_matrix\n",
    "\n",
    "print(confusion_matrix(y_test, predictions))\n",
    "print(classification_report(y_test, predictions))"
   ]
  }
 ],
 "metadata": {
  "kernelspec": {
   "display_name": "Python 3",
   "language": "python",
   "name": "python3"
  },
  "language_info": {
   "codemirror_mode": {
    "name": "ipython",
    "version": 3
   },
   "file_extension": ".py",
   "mimetype": "text/x-python",
   "name": "python",
   "nbconvert_exporter": "python",
   "pygments_lexer": "ipython3",
   "version": "3.8.8"
  }
 },
 "nbformat": 4,
 "nbformat_minor": 5
}
