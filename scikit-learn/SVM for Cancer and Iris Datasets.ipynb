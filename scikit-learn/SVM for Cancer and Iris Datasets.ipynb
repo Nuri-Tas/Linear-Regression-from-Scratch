{
 "cells": [
  {
   "cell_type": "code",
   "execution_count": 1,
   "id": "deb9fbdb",
   "metadata": {},
   "outputs": [],
   "source": [
    "import pandas as pd\n",
    "import numpy as np\n",
    "\n",
    "import matplotlib.pyplot as plt\n",
    "import seaborn as sns\n",
    "%matplotlib inline"
   ]
  },
  {
   "cell_type": "markdown",
   "id": "1ecc9323",
   "metadata": {},
   "source": [
    "Load the breast cancer dataset from scikit-learn."
   ]
  },
  {
   "cell_type": "code",
   "execution_count": 2,
   "id": "66a4d17d",
   "metadata": {},
   "outputs": [],
   "source": [
    "from sklearn.datasets import load_breast_cancer"
   ]
  },
  {
   "cell_type": "code",
   "execution_count": 17,
   "id": "9d84c2c7",
   "metadata": {},
   "outputs": [],
   "source": [
    "cancer = load_breast_cancer()"
   ]
  },
  {
   "cell_type": "code",
   "execution_count": 19,
   "id": "2886d813",
   "metadata": {},
   "outputs": [
    {
     "data": {
      "text/plain": [
       "dict_keys(['data', 'target', 'frame', 'target_names', 'DESCR', 'feature_names', 'filename', 'data_module'])"
      ]
     },
     "execution_count": 19,
     "metadata": {},
     "output_type": "execute_result"
    }
   ],
   "source": [
    "cancer.keys()"
   ]
  },
  {
   "cell_type": "code",
   "execution_count": 20,
   "id": "5e6d4eea",
   "metadata": {},
   "outputs": [
    {
     "data": {
      "text/plain": [
       "array([[1.799e+01, 1.038e+01, 1.228e+02, ..., 2.654e-01, 4.601e-01,\n",
       "        1.189e-01],\n",
       "       [2.057e+01, 1.777e+01, 1.329e+02, ..., 1.860e-01, 2.750e-01,\n",
       "        8.902e-02],\n",
       "       [1.969e+01, 2.125e+01, 1.300e+02, ..., 2.430e-01, 3.613e-01,\n",
       "        8.758e-02],\n",
       "       ...,\n",
       "       [1.660e+01, 2.808e+01, 1.083e+02, ..., 1.418e-01, 2.218e-01,\n",
       "        7.820e-02],\n",
       "       [2.060e+01, 2.933e+01, 1.401e+02, ..., 2.650e-01, 4.087e-01,\n",
       "        1.240e-01],\n",
       "       [7.760e+00, 2.454e+01, 4.792e+01, ..., 0.000e+00, 2.871e-01,\n",
       "        7.039e-02]])"
      ]
     },
     "execution_count": 20,
     "metadata": {},
     "output_type": "execute_result"
    }
   ],
   "source": [
    "data = cancer['data']\n",
    "target = cancer['target']\n",
    "data"
   ]
  },
  {
   "cell_type": "markdown",
   "id": "5d631e7b",
   "metadata": {},
   "source": [
    "Check the labels."
   ]
  },
  {
   "cell_type": "code",
   "execution_count": 21,
   "id": "f990223d",
   "metadata": {},
   "outputs": [
    {
     "data": {
      "text/plain": [
       "array([0, 1])"
      ]
     },
     "execution_count": 21,
     "metadata": {},
     "output_type": "execute_result"
    }
   ],
   "source": [
    "np.unique(target)"
   ]
  },
  {
   "cell_type": "code",
   "execution_count": null,
   "id": "0333299f",
   "metadata": {},
   "outputs": [],
   "source": []
  },
  {
   "cell_type": "markdown",
   "id": "df3f3825",
   "metadata": {},
   "source": [
    "Convert the dataset into a dataframe."
   ]
  },
  {
   "cell_type": "code",
   "execution_count": 31,
   "id": "b0f50ae0",
   "metadata": {},
   "outputs": [
    {
     "data": {
      "text/html": [
       "<div>\n",
       "<style scoped>\n",
       "    .dataframe tbody tr th:only-of-type {\n",
       "        vertical-align: middle;\n",
       "    }\n",
       "\n",
       "    .dataframe tbody tr th {\n",
       "        vertical-align: top;\n",
       "    }\n",
       "\n",
       "    .dataframe thead th {\n",
       "        text-align: right;\n",
       "    }\n",
       "</style>\n",
       "<table border=\"1\" class=\"dataframe\">\n",
       "  <thead>\n",
       "    <tr style=\"text-align: right;\">\n",
       "      <th></th>\n",
       "      <th>mean radius</th>\n",
       "      <th>mean texture</th>\n",
       "      <th>mean perimeter</th>\n",
       "      <th>mean area</th>\n",
       "      <th>mean smoothness</th>\n",
       "      <th>mean compactness</th>\n",
       "      <th>mean concavity</th>\n",
       "      <th>mean concave points</th>\n",
       "      <th>mean symmetry</th>\n",
       "      <th>mean fractal dimension</th>\n",
       "      <th>...</th>\n",
       "      <th>worst texture</th>\n",
       "      <th>worst perimeter</th>\n",
       "      <th>worst area</th>\n",
       "      <th>worst smoothness</th>\n",
       "      <th>worst compactness</th>\n",
       "      <th>worst concavity</th>\n",
       "      <th>worst concave points</th>\n",
       "      <th>worst symmetry</th>\n",
       "      <th>worst fractal dimension</th>\n",
       "      <th>target</th>\n",
       "    </tr>\n",
       "  </thead>\n",
       "  <tbody>\n",
       "    <tr>\n",
       "      <th>0</th>\n",
       "      <td>17.99</td>\n",
       "      <td>10.38</td>\n",
       "      <td>122.80</td>\n",
       "      <td>1001.0</td>\n",
       "      <td>0.11840</td>\n",
       "      <td>0.27760</td>\n",
       "      <td>0.3001</td>\n",
       "      <td>0.14710</td>\n",
       "      <td>0.2419</td>\n",
       "      <td>0.07871</td>\n",
       "      <td>...</td>\n",
       "      <td>17.33</td>\n",
       "      <td>184.60</td>\n",
       "      <td>2019.0</td>\n",
       "      <td>0.1622</td>\n",
       "      <td>0.6656</td>\n",
       "      <td>0.7119</td>\n",
       "      <td>0.2654</td>\n",
       "      <td>0.4601</td>\n",
       "      <td>0.11890</td>\n",
       "      <td>0</td>\n",
       "    </tr>\n",
       "    <tr>\n",
       "      <th>1</th>\n",
       "      <td>20.57</td>\n",
       "      <td>17.77</td>\n",
       "      <td>132.90</td>\n",
       "      <td>1326.0</td>\n",
       "      <td>0.08474</td>\n",
       "      <td>0.07864</td>\n",
       "      <td>0.0869</td>\n",
       "      <td>0.07017</td>\n",
       "      <td>0.1812</td>\n",
       "      <td>0.05667</td>\n",
       "      <td>...</td>\n",
       "      <td>23.41</td>\n",
       "      <td>158.80</td>\n",
       "      <td>1956.0</td>\n",
       "      <td>0.1238</td>\n",
       "      <td>0.1866</td>\n",
       "      <td>0.2416</td>\n",
       "      <td>0.1860</td>\n",
       "      <td>0.2750</td>\n",
       "      <td>0.08902</td>\n",
       "      <td>0</td>\n",
       "    </tr>\n",
       "    <tr>\n",
       "      <th>2</th>\n",
       "      <td>19.69</td>\n",
       "      <td>21.25</td>\n",
       "      <td>130.00</td>\n",
       "      <td>1203.0</td>\n",
       "      <td>0.10960</td>\n",
       "      <td>0.15990</td>\n",
       "      <td>0.1974</td>\n",
       "      <td>0.12790</td>\n",
       "      <td>0.2069</td>\n",
       "      <td>0.05999</td>\n",
       "      <td>...</td>\n",
       "      <td>25.53</td>\n",
       "      <td>152.50</td>\n",
       "      <td>1709.0</td>\n",
       "      <td>0.1444</td>\n",
       "      <td>0.4245</td>\n",
       "      <td>0.4504</td>\n",
       "      <td>0.2430</td>\n",
       "      <td>0.3613</td>\n",
       "      <td>0.08758</td>\n",
       "      <td>0</td>\n",
       "    </tr>\n",
       "    <tr>\n",
       "      <th>3</th>\n",
       "      <td>11.42</td>\n",
       "      <td>20.38</td>\n",
       "      <td>77.58</td>\n",
       "      <td>386.1</td>\n",
       "      <td>0.14250</td>\n",
       "      <td>0.28390</td>\n",
       "      <td>0.2414</td>\n",
       "      <td>0.10520</td>\n",
       "      <td>0.2597</td>\n",
       "      <td>0.09744</td>\n",
       "      <td>...</td>\n",
       "      <td>26.50</td>\n",
       "      <td>98.87</td>\n",
       "      <td>567.7</td>\n",
       "      <td>0.2098</td>\n",
       "      <td>0.8663</td>\n",
       "      <td>0.6869</td>\n",
       "      <td>0.2575</td>\n",
       "      <td>0.6638</td>\n",
       "      <td>0.17300</td>\n",
       "      <td>0</td>\n",
       "    </tr>\n",
       "    <tr>\n",
       "      <th>4</th>\n",
       "      <td>20.29</td>\n",
       "      <td>14.34</td>\n",
       "      <td>135.10</td>\n",
       "      <td>1297.0</td>\n",
       "      <td>0.10030</td>\n",
       "      <td>0.13280</td>\n",
       "      <td>0.1980</td>\n",
       "      <td>0.10430</td>\n",
       "      <td>0.1809</td>\n",
       "      <td>0.05883</td>\n",
       "      <td>...</td>\n",
       "      <td>16.67</td>\n",
       "      <td>152.20</td>\n",
       "      <td>1575.0</td>\n",
       "      <td>0.1374</td>\n",
       "      <td>0.2050</td>\n",
       "      <td>0.4000</td>\n",
       "      <td>0.1625</td>\n",
       "      <td>0.2364</td>\n",
       "      <td>0.07678</td>\n",
       "      <td>0</td>\n",
       "    </tr>\n",
       "  </tbody>\n",
       "</table>\n",
       "<p>5 rows × 31 columns</p>\n",
       "</div>"
      ],
      "text/plain": [
       "   mean radius  mean texture  mean perimeter  mean area  mean smoothness  \\\n",
       "0        17.99         10.38          122.80     1001.0          0.11840   \n",
       "1        20.57         17.77          132.90     1326.0          0.08474   \n",
       "2        19.69         21.25          130.00     1203.0          0.10960   \n",
       "3        11.42         20.38           77.58      386.1          0.14250   \n",
       "4        20.29         14.34          135.10     1297.0          0.10030   \n",
       "\n",
       "   mean compactness  mean concavity  mean concave points  mean symmetry  \\\n",
       "0           0.27760          0.3001              0.14710         0.2419   \n",
       "1           0.07864          0.0869              0.07017         0.1812   \n",
       "2           0.15990          0.1974              0.12790         0.2069   \n",
       "3           0.28390          0.2414              0.10520         0.2597   \n",
       "4           0.13280          0.1980              0.10430         0.1809   \n",
       "\n",
       "   mean fractal dimension  ...  worst texture  worst perimeter  worst area  \\\n",
       "0                 0.07871  ...          17.33           184.60      2019.0   \n",
       "1                 0.05667  ...          23.41           158.80      1956.0   \n",
       "2                 0.05999  ...          25.53           152.50      1709.0   \n",
       "3                 0.09744  ...          26.50            98.87       567.7   \n",
       "4                 0.05883  ...          16.67           152.20      1575.0   \n",
       "\n",
       "   worst smoothness  worst compactness  worst concavity  worst concave points  \\\n",
       "0            0.1622             0.6656           0.7119                0.2654   \n",
       "1            0.1238             0.1866           0.2416                0.1860   \n",
       "2            0.1444             0.4245           0.4504                0.2430   \n",
       "3            0.2098             0.8663           0.6869                0.2575   \n",
       "4            0.1374             0.2050           0.4000                0.1625   \n",
       "\n",
       "   worst symmetry  worst fractal dimension  target  \n",
       "0          0.4601                  0.11890       0  \n",
       "1          0.2750                  0.08902       0  \n",
       "2          0.3613                  0.08758       0  \n",
       "3          0.6638                  0.17300       0  \n",
       "4          0.2364                  0.07678       0  \n",
       "\n",
       "[5 rows x 31 columns]"
      ]
     },
     "execution_count": 31,
     "metadata": {},
     "output_type": "execute_result"
    }
   ],
   "source": [
    "df = pd.DataFrame(cancer['data'], columns=cancer['feature_names'])\n",
    "df['target'] = cancer['target']\n",
    "df.head()"
   ]
  },
  {
   "cell_type": "code",
   "execution_count": 46,
   "id": "be9ccdbc",
   "metadata": {},
   "outputs": [
    {
     "name": "stdout",
     "output_type": "stream",
     "text": [
      "<class 'pandas.core.frame.DataFrame'>\n",
      "RangeIndex: 569 entries, 0 to 568\n",
      "Data columns (total 31 columns):\n",
      " #   Column                   Non-Null Count  Dtype  \n",
      "---  ------                   --------------  -----  \n",
      " 0   mean radius              569 non-null    float64\n",
      " 1   mean texture             569 non-null    float64\n",
      " 2   mean perimeter           569 non-null    float64\n",
      " 3   mean area                569 non-null    float64\n",
      " 4   mean smoothness          569 non-null    float64\n",
      " 5   mean compactness         569 non-null    float64\n",
      " 6   mean concavity           569 non-null    float64\n",
      " 7   mean concave points      569 non-null    float64\n",
      " 8   mean symmetry            569 non-null    float64\n",
      " 9   mean fractal dimension   569 non-null    float64\n",
      " 10  radius error             569 non-null    float64\n",
      " 11  texture error            569 non-null    float64\n",
      " 12  perimeter error          569 non-null    float64\n",
      " 13  area error               569 non-null    float64\n",
      " 14  smoothness error         569 non-null    float64\n",
      " 15  compactness error        569 non-null    float64\n",
      " 16  concavity error          569 non-null    float64\n",
      " 17  concave points error     569 non-null    float64\n",
      " 18  symmetry error           569 non-null    float64\n",
      " 19  fractal dimension error  569 non-null    float64\n",
      " 20  worst radius             569 non-null    float64\n",
      " 21  worst texture            569 non-null    float64\n",
      " 22  worst perimeter          569 non-null    float64\n",
      " 23  worst area               569 non-null    float64\n",
      " 24  worst smoothness         569 non-null    float64\n",
      " 25  worst compactness        569 non-null    float64\n",
      " 26  worst concavity          569 non-null    float64\n",
      " 27  worst concave points     569 non-null    float64\n",
      " 28  worst symmetry           569 non-null    float64\n",
      " 29  worst fractal dimension  569 non-null    float64\n",
      " 30  target                   569 non-null    int32  \n",
      "dtypes: float64(30), int32(1)\n",
      "memory usage: 135.7 KB\n"
     ]
    }
   ],
   "source": [
    "df.info()"
   ]
  },
  {
   "cell_type": "code",
   "execution_count": 32,
   "id": "2b3a0723",
   "metadata": {},
   "outputs": [
    {
     "data": {
      "text/plain": [
       "<AxesSubplot:>"
      ]
     },
     "execution_count": 32,
     "metadata": {},
     "output_type": "execute_result"
    },
    {
     "data": {
      "image/png": "[encoded data removed]",
      "text/plain": [
       "<Figure size 432x288 with 1 Axes>"
      ]
     },
     "metadata": {
      "needs_background": "light"
     },
     "output_type": "display_data"
    }
   ],
   "source": [
    "df['mean radius'].hist()"
   ]
  },
  {
   "cell_type": "markdown",
   "id": "7e7fc731",
   "metadata": {},
   "source": [
    "Build a linear plot for the mean smoothness and mean compactness."
   ]
  },
  {
   "cell_type": "code",
   "execution_count": 33,
   "id": "c80f3221",
   "metadata": {},
   "outputs": [
    {
     "data": {
      "image/png": "[encoded data removed]",
      "text/plain": [
       "<Figure size 402.375x360 with 1 Axes>"
      ]
     },
     "metadata": {
      "needs_background": "light"
     },
     "output_type": "display_data"
    }
   ],
   "source": [
    "sns.lmplot(data=df, x='mean smoothness', y='mean compactness', hue='target');"
   ]
  },
  {
   "cell_type": "markdown",
   "id": "3108e38e",
   "metadata": {},
   "source": [
    "We observe that the benign tumors are majorly clustered for mean compactness score less than 0.18, and it wouldn't be an overstretch to say that the tumors with mean compactness greater than 0.20 have a very high change to be malignant tumors. Meanwhile, mean smoothness by itself isn't a great indicator of tumor classes."
   ]
  },
  {
   "cell_type": "markdown",
   "id": "9f79e6d2",
   "metadata": {},
   "source": [
    "# Build the Model"
   ]
  },
  {
   "cell_type": "code",
   "execution_count": 37,
   "id": "fd51998d",
   "metadata": {},
   "outputs": [],
   "source": [
    "from sklearn.model_selection import train_test_split\n",
    "\n",
    "X = df.iloc[:, :-1]\n",
    "y = df.iloc[:, -1]\n",
    "\n",
    "X_train, X_test, y_train, y_test = train_test_split(X, y, test_size=0.2)"
   ]
  },
  {
   "cell_type": "code",
   "execution_count": 38,
   "id": "e1900823",
   "metadata": {},
   "outputs": [],
   "source": [
    "from sklearn.svm import SVC\n",
    "\n",
    "svm = SVC()"
   ]
  },
  {
   "cell_type": "code",
   "execution_count": 39,
   "id": "5f28efa4",
   "metadata": {},
   "outputs": [
    {
     "data": {
      "text/plain": [
       "SVC()"
      ]
     },
     "execution_count": 39,
     "metadata": {},
     "output_type": "execute_result"
    }
   ],
   "source": [
    "svm.fit(X_train, y_train)"
   ]
  },
  {
   "cell_type": "code",
   "execution_count": 41,
   "id": "2b49c04e",
   "metadata": {},
   "outputs": [],
   "source": [
    "predictions = svm.predict(X_test)"
   ]
  },
  {
   "cell_type": "code",
   "execution_count": 42,
   "id": "632d5928",
   "metadata": {
    "scrolled": true
   },
   "outputs": [
    {
     "data": {
      "text/plain": [
       "0.10526315789473684"
      ]
     },
     "execution_count": 42,
     "metadata": {},
     "output_type": "execute_result"
    }
   ],
   "source": [
    "np.mean(predictions != y_test)"
   ]
  },
  {
   "cell_type": "code",
   "execution_count": 43,
   "id": "8ac99366",
   "metadata": {},
   "outputs": [],
   "source": [
    "from sklearn.metrics import classification_report, confusion_matrix"
   ]
  },
  {
   "cell_type": "code",
   "execution_count": 44,
   "id": "3348d7ea",
   "metadata": {},
   "outputs": [
    {
     "name": "stdout",
     "output_type": "stream",
     "text": [
      "[[29 11]\n",
      " [ 1 73]]\n",
      "              precision    recall  f1-score   support\n",
      "\n",
      "           0       0.97      0.72      0.83        40\n",
      "           1       0.87      0.99      0.92        74\n",
      "\n",
      "    accuracy                           0.89       114\n",
      "   macro avg       0.92      0.86      0.88       114\n",
      "weighted avg       0.90      0.89      0.89       114\n",
      "\n",
      "\n",
      "\n"
     ]
    }
   ],
   "source": [
    "print(confusion_matrix(y_test, predictions))\n",
    "print(classification_report(y_test, predictions))\n",
    "print('\\n')"
   ]
  },
  {
   "cell_type": "code",
   "execution_count": 49,
   "id": "40d2c7bc",
   "metadata": {},
   "outputs": [
    {
     "data": {
      "text/plain": [
       "40"
      ]
     },
     "execution_count": 49,
     "metadata": {},
     "output_type": "execute_result"
    }
   ],
   "source": [
    "len(y_test[y_test == 0])"
   ]
  },
  {
   "cell_type": "markdown",
   "id": "2906ce5d",
   "metadata": {},
   "source": [
    "Rebuild the model with GridSearch"
   ]
  },
  {
   "cell_type": "code",
   "execution_count": 51,
   "id": "f3ee5a34",
   "metadata": {},
   "outputs": [],
   "source": [
    "from sklearn.model_selection import GridSearchCV"
   ]
  },
  {
   "cell_type": "code",
   "execution_count": 79,
   "id": "1e393c65",
   "metadata": {},
   "outputs": [],
   "source": [
    "param_grid = {'C': [10**(i) for i in range(-1, 4)], 'gamma': [10**(i) for i in range(2, -4, -1)]}"
   ]
  },
  {
   "cell_type": "code",
   "execution_count": 80,
   "id": "90a60392",
   "metadata": {},
   "outputs": [],
   "source": [
    "grid = GridSearchCV(SVC(), param_grid, verbose=10)"
   ]
  },
  {
   "cell_type": "code",
   "execution_count": 81,
   "id": "f7119ae3",
   "metadata": {},
   "outputs": [
    {
     "name": "stdout",
     "output_type": "stream",
     "text": [
      "Fitting 5 folds for each of 30 candidates, totalling 150 fits\n",
      "[CV 1/5; 1/30] START C=0.1, gamma=100...........................................\n",
      "[CV 1/5; 1/30] END ............C=0.1, gamma=100;, score=0.615 total time=   0.0s\n",
      "[CV 2/5; 1/30] START C=0.1, gamma=100...........................................\n",
      "[CV 2/5; 1/30] END ............C=0.1, gamma=100;, score=0.615 total time=   0.0s\n",
      "[CV 3/5; 1/30] START C=0.1, gamma=100...........................................\n",
      "[CV 3/5; 1/30] END ............C=0.1, gamma=100;, score=0.626 total time=   0.0s\n",
      "[CV 4/5; 1/30] START C=0.1, gamma=100...........................................\n",
      "[CV 4/5; 1/30] END ............C=0.1, gamma=100;, score=0.626 total time=   0.0s\n",
      "[CV 5/5; 1/30] START C=0.1, gamma=100...........................................\n",
      "[CV 5/5; 1/30] END ............C=0.1, gamma=100;, score=0.626 total time=   0.0s\n",
      "[CV 1/5; 2/30] START C=0.1, gamma=10............................................\n",
      "[CV 1/5; 2/30] END .............C=0.1, gamma=10;, score=0.615 total time=   0.0s\n",
      "[CV 2/5; 2/30] START C=0.1, gamma=10............................................\n",
      "[CV 2/5; 2/30] END .............C=0.1, gamma=10;, score=0.615 total time=   0.0s\n",
      "[CV 3/5; 2/30] START C=0.1, gamma=10............................................\n",
      "[CV 3/5; 2/30] END .............C=0.1, gamma=10;, score=0.626 total time=   0.0s\n",
      "[CV 4/5; 2/30] START C=0.1, gamma=10............................................\n",
      "[CV 4/5; 2/30] END .............C=0.1, gamma=10;, score=0.626 total time=   0.0s\n",
      "[CV 5/5; 2/30] START C=0.1, gamma=10............................................\n",
      "[CV 5/5; 2/30] END .............C=0.1, gamma=10;, score=0.626 total time=   0.0s\n",
      "[CV 1/5; 3/30] START C=0.1, gamma=1.............................................\n",
      "[CV 1/5; 3/30] END ..............C=0.1, gamma=1;, score=0.615 total time=   0.0s\n",
      "[CV 2/5; 3/30] START C=0.1, gamma=1.............................................\n",
      "[CV 2/5; 3/30] END ..............C=0.1, gamma=1;, score=0.615 total time=   0.0s\n",
      "[CV 3/5; 3/30] START C=0.1, gamma=1.............................................\n",
      "[CV 3/5; 3/30] END ..............C=0.1, gamma=1;, score=0.626 total time=   0.0s\n",
      "[CV 4/5; 3/30] START C=0.1, gamma=1.............................................\n",
      "[CV 4/5; 3/30] END ..............C=0.1, gamma=1;, score=0.626 total time=   0.0s\n",
      "[CV 5/5; 3/30] START C=0.1, gamma=1.............................................\n",
      "[CV 5/5; 3/30] END ..............C=0.1, gamma=1;, score=0.626 total time=   0.0s\n",
      "[CV 1/5; 4/30] START C=0.1, gamma=0.1...........................................\n",
      "[CV 1/5; 4/30] END ............C=0.1, gamma=0.1;, score=0.615 total time=   0.0s\n",
      "[CV 2/5; 4/30] START C=0.1, gamma=0.1...........................................\n",
      "[CV 2/5; 4/30] END ............C=0.1, gamma=0.1;, score=0.615 total time=   0.0s\n",
      "[CV 3/5; 4/30] START C=0.1, gamma=0.1...........................................\n",
      "[CV 3/5; 4/30] END ............C=0.1, gamma=0.1;, score=0.626 total time=   0.0s\n",
      "[CV 4/5; 4/30] START C=0.1, gamma=0.1...........................................\n",
      "[CV 4/5; 4/30] END ............C=0.1, gamma=0.1;, score=0.626 total time=   0.0s\n",
      "[CV 5/5; 4/30] START C=0.1, gamma=0.1...........................................\n",
      "[CV 5/5; 4/30] END ............C=0.1, gamma=0.1;, score=0.626 total time=   0.0s\n",
      "[CV 1/5; 5/30] START C=0.1, gamma=0.01..........................................\n",
      "[CV 1/5; 5/30] END ...........C=0.1, gamma=0.01;, score=0.615 total time=   0.0s\n",
      "[CV 2/5; 5/30] START C=0.1, gamma=0.01..........................................\n",
      "[CV 2/5; 5/30] END ...........C=0.1, gamma=0.01;, score=0.615 total time=   0.0s\n",
      "[CV 3/5; 5/30] START C=0.1, gamma=0.01..........................................\n",
      "[CV 3/5; 5/30] END ...........C=0.1, gamma=0.01;, score=0.626 total time=   0.0s\n",
      "[CV 4/5; 5/30] START C=0.1, gamma=0.01..........................................\n",
      "[CV 4/5; 5/30] END ...........C=0.1, gamma=0.01;, score=0.626 total time=   0.0s\n",
      "[CV 5/5; 5/30] START C=0.1, gamma=0.01..........................................\n",
      "[CV 5/5; 5/30] END ...........C=0.1, gamma=0.01;, score=0.626 total time=   0.0s\n",
      "[CV 1/5; 6/30] START C=0.1, gamma=0.001.........................................\n",
      "[CV 1/5; 6/30] END ..........C=0.1, gamma=0.001;, score=0.615 total time=   0.0s\n",
      "[CV 2/5; 6/30] START C=0.1, gamma=0.001.........................................\n",
      "[CV 2/5; 6/30] END ..........C=0.1, gamma=0.001;, score=0.615 total time=   0.0s\n",
      "[CV 3/5; 6/30] START C=0.1, gamma=0.001.........................................\n",
      "[CV 3/5; 6/30] END ..........C=0.1, gamma=0.001;, score=0.626 total time=   0.0s\n",
      "[CV 4/5; 6/30] START C=0.1, gamma=0.001.........................................\n",
      "[CV 4/5; 6/30] END ..........C=0.1, gamma=0.001;, score=0.626 total time=   0.0s\n",
      "[CV 5/5; 6/30] START C=0.1, gamma=0.001.........................................\n",
      "[CV 5/5; 6/30] END ..........C=0.1, gamma=0.001;, score=0.626 total time=   0.0s\n",
      "[CV 1/5; 7/30] START C=1, gamma=100.............................................\n",
      "[CV 1/5; 7/30] END ..............C=1, gamma=100;, score=0.615 total time=   0.0s\n",
      "[CV 2/5; 7/30] START C=1, gamma=100.............................................\n",
      "[CV 2/5; 7/30] END ..............C=1, gamma=100;, score=0.615 total time=   0.0s\n",
      "[CV 3/5; 7/30] START C=1, gamma=100.............................................\n",
      "[CV 3/5; 7/30] END ..............C=1, gamma=100;, score=0.626 total time=   0.0s\n",
      "[CV 4/5; 7/30] START C=1, gamma=100.............................................\n",
      "[CV 4/5; 7/30] END ..............C=1, gamma=100;, score=0.626 total time=   0.0s\n",
      "[CV 5/5; 7/30] START C=1, gamma=100.............................................\n",
      "[CV 5/5; 7/30] END ..............C=1, gamma=100;, score=0.626 total time=   0.0s\n",
      "[CV 1/5; 8/30] START C=1, gamma=10..............................................\n",
      "[CV 1/5; 8/30] END ...............C=1, gamma=10;, score=0.615 total time=   0.0s\n",
      "[CV 2/5; 8/30] START C=1, gamma=10..............................................\n",
      "[CV 2/5; 8/30] END ...............C=1, gamma=10;, score=0.615 total time=   0.0s\n",
      "[CV 3/5; 8/30] START C=1, gamma=10..............................................\n",
      "[CV 3/5; 8/30] END ...............C=1, gamma=10;, score=0.626 total time=   0.0s\n",
      "[CV 4/5; 8/30] START C=1, gamma=10..............................................\n",
      "[CV 4/5; 8/30] END ...............C=1, gamma=10;, score=0.626 total time=   0.0s\n",
      "[CV 5/5; 8/30] START C=1, gamma=10..............................................\n",
      "[CV 5/5; 8/30] END ...............C=1, gamma=10;, score=0.626 total time=   0.0s\n",
      "[CV 1/5; 9/30] START C=1, gamma=1...............................................\n",
      "[CV 1/5; 9/30] END ................C=1, gamma=1;, score=0.615 total time=   0.0s\n",
      "[CV 2/5; 9/30] START C=1, gamma=1...............................................\n",
      "[CV 2/5; 9/30] END ................C=1, gamma=1;, score=0.615 total time=   0.0s\n",
      "[CV 3/5; 9/30] START C=1, gamma=1...............................................\n",
      "[CV 3/5; 9/30] END ................C=1, gamma=1;, score=0.626 total time=   0.0s\n",
      "[CV 4/5; 9/30] START C=1, gamma=1...............................................\n",
      "[CV 4/5; 9/30] END ................C=1, gamma=1;, score=0.626 total time=   0.0s\n",
      "[CV 5/5; 9/30] START C=1, gamma=1...............................................\n",
      "[CV 5/5; 9/30] END ................C=1, gamma=1;, score=0.626 total time=   0.0s\n",
      "[CV 1/5; 10/30] START C=1, gamma=0.1............................................\n",
      "[CV 1/5; 10/30] END .............C=1, gamma=0.1;, score=0.615 total time=   0.0s\n",
      "[CV 2/5; 10/30] START C=1, gamma=0.1............................................\n",
      "[CV 2/5; 10/30] END .............C=1, gamma=0.1;, score=0.615 total time=   0.0s\n",
      "[CV 3/5; 10/30] START C=1, gamma=0.1............................................\n",
      "[CV 3/5; 10/30] END .............C=1, gamma=0.1;, score=0.626 total time=   0.0s\n",
      "[CV 4/5; 10/30] START C=1, gamma=0.1............................................\n",
      "[CV 4/5; 10/30] END .............C=1, gamma=0.1;, score=0.626 total time=   0.0s\n",
      "[CV 5/5; 10/30] START C=1, gamma=0.1............................................\n",
      "[CV 5/5; 10/30] END .............C=1, gamma=0.1;, score=0.626 total time=   0.0s\n",
      "[CV 1/5; 11/30] START C=1, gamma=0.01...........................................\n",
      "[CV 1/5; 11/30] END ............C=1, gamma=0.01;, score=0.615 total time=   0.0s\n",
      "[CV 2/5; 11/30] START C=1, gamma=0.01...........................................\n",
      "[CV 2/5; 11/30] END ............C=1, gamma=0.01;, score=0.615 total time=   0.0s\n",
      "[CV 3/5; 11/30] START C=1, gamma=0.01...........................................\n",
      "[CV 3/5; 11/30] END ............C=1, gamma=0.01;, score=0.626 total time=   0.0s\n",
      "[CV 4/5; 11/30] START C=1, gamma=0.01...........................................\n",
      "[CV 4/5; 11/30] END ............C=1, gamma=0.01;, score=0.626 total time=   0.0s\n",
      "[CV 5/5; 11/30] START C=1, gamma=0.01...........................................\n",
      "[CV 5/5; 11/30] END ............C=1, gamma=0.01;, score=0.615 total time=   0.0s\n",
      "[CV 1/5; 12/30] START C=1, gamma=0.001..........................................\n",
      "[CV 1/5; 12/30] END ...........C=1, gamma=0.001;, score=0.956 total time=   0.0s\n",
      "[CV 2/5; 12/30] START C=1, gamma=0.001..........................................\n",
      "[CV 2/5; 12/30] END ...........C=1, gamma=0.001;, score=0.923 total time=   0.0s\n",
      "[CV 3/5; 12/30] START C=1, gamma=0.001..........................................\n",
      "[CV 3/5; 12/30] END ...........C=1, gamma=0.001;, score=0.923 total time=   0.0s\n",
      "[CV 4/5; 12/30] START C=1, gamma=0.001..........................................\n",
      "[CV 4/5; 12/30] END ...........C=1, gamma=0.001;, score=0.901 total time=   0.0s\n",
      "[CV 5/5; 12/30] START C=1, gamma=0.001..........................................\n",
      "[CV 5/5; 12/30] END ...........C=1, gamma=0.001;, score=0.934 total time=   0.0s\n",
      "[CV 1/5; 13/30] START C=10, gamma=100...........................................\n",
      "[CV 1/5; 13/30] END ............C=10, gamma=100;, score=0.615 total time=   0.0s\n",
      "[CV 2/5; 13/30] START C=10, gamma=100...........................................\n",
      "[CV 2/5; 13/30] END ............C=10, gamma=100;, score=0.615 total time=   0.0s\n",
      "[CV 3/5; 13/30] START C=10, gamma=100...........................................\n",
      "[CV 3/5; 13/30] END ............C=10, gamma=100;, score=0.626 total time=   0.0s\n",
      "[CV 4/5; 13/30] START C=10, gamma=100...........................................\n",
      "[CV 4/5; 13/30] END ............C=10, gamma=100;, score=0.626 total time=   0.0s\n",
      "[CV 5/5; 13/30] START C=10, gamma=100...........................................\n",
      "[CV 5/5; 13/30] END ............C=10, gamma=100;, score=0.626 total time=   0.0s\n",
      "[CV 1/5; 14/30] START C=10, gamma=10............................................\n",
      "[CV 1/5; 14/30] END .............C=10, gamma=10;, score=0.615 total time=   0.0s\n",
      "[CV 2/5; 14/30] START C=10, gamma=10............................................\n",
      "[CV 2/5; 14/30] END .............C=10, gamma=10;, score=0.615 total time=   0.0s\n",
      "[CV 3/5; 14/30] START C=10, gamma=10............................................\n",
      "[CV 3/5; 14/30] END .............C=10, gamma=10;, score=0.626 total time=   0.0s\n",
      "[CV 4/5; 14/30] START C=10, gamma=10............................................\n",
      "[CV 4/5; 14/30] END .............C=10, gamma=10;, score=0.626 total time=   0.0s\n",
      "[CV 5/5; 14/30] START C=10, gamma=10............................................\n",
      "[CV 5/5; 14/30] END .............C=10, gamma=10;, score=0.626 total time=   0.0s\n",
      "[CV 1/5; 15/30] START C=10, gamma=1.............................................\n",
      "[CV 1/5; 15/30] END ..............C=10, gamma=1;, score=0.615 total time=   0.0s\n",
      "[CV 2/5; 15/30] START C=10, gamma=1.............................................\n",
      "[CV 2/5; 15/30] END ..............C=10, gamma=1;, score=0.615 total time=   0.0s\n",
      "[CV 3/5; 15/30] START C=10, gamma=1.............................................\n",
      "[CV 3/5; 15/30] END ..............C=10, gamma=1;, score=0.626 total time=   0.0s\n",
      "[CV 4/5; 15/30] START C=10, gamma=1.............................................\n",
      "[CV 4/5; 15/30] END ..............C=10, gamma=1;, score=0.626 total time=   0.0s\n",
      "[CV 5/5; 15/30] START C=10, gamma=1.............................................\n",
      "[CV 5/5; 15/30] END ..............C=10, gamma=1;, score=0.626 total time=   0.0s\n",
      "[CV 1/5; 16/30] START C=10, gamma=0.1...........................................\n",
      "[CV 1/5; 16/30] END ............C=10, gamma=0.1;, score=0.615 total time=   0.0s\n",
      "[CV 2/5; 16/30] START C=10, gamma=0.1...........................................\n",
      "[CV 2/5; 16/30] END ............C=10, gamma=0.1;, score=0.615 total time=   0.0s\n",
      "[CV 3/5; 16/30] START C=10, gamma=0.1...........................................\n",
      "[CV 3/5; 16/30] END ............C=10, gamma=0.1;, score=0.626 total time=   0.0s\n",
      "[CV 4/5; 16/30] START C=10, gamma=0.1...........................................\n",
      "[CV 4/5; 16/30] END ............C=10, gamma=0.1;, score=0.626 total time=   0.0s\n",
      "[CV 5/5; 16/30] START C=10, gamma=0.1...........................................\n",
      "[CV 5/5; 16/30] END ............C=10, gamma=0.1;, score=0.626 total time=   0.0s\n",
      "[CV 1/5; 17/30] START C=10, gamma=0.01..........................................\n",
      "[CV 1/5; 17/30] END ...........C=10, gamma=0.01;, score=0.615 total time=   0.0s\n",
      "[CV 2/5; 17/30] START C=10, gamma=0.01..........................................\n",
      "[CV 2/5; 17/30] END ...........C=10, gamma=0.01;, score=0.615 total time=   0.0s\n",
      "[CV 3/5; 17/30] START C=10, gamma=0.01..........................................\n",
      "[CV 3/5; 17/30] END ...........C=10, gamma=0.01;, score=0.626 total time=   0.0s\n",
      "[CV 4/5; 17/30] START C=10, gamma=0.01..........................................\n",
      "[CV 4/5; 17/30] END ...........C=10, gamma=0.01;, score=0.626 total time=   0.0s\n",
      "[CV 5/5; 17/30] START C=10, gamma=0.01..........................................\n",
      "[CV 5/5; 17/30] END ...........C=10, gamma=0.01;, score=0.604 total time=   0.0s\n",
      "[CV 1/5; 18/30] START C=10, gamma=0.001.........................................\n",
      "[CV 1/5; 18/30] END ..........C=10, gamma=0.001;, score=0.956 total time=   0.0s\n",
      "[CV 2/5; 18/30] START C=10, gamma=0.001.........................................\n",
      "[CV 2/5; 18/30] END ..........C=10, gamma=0.001;, score=0.846 total time=   0.0s\n",
      "[CV 3/5; 18/30] START C=10, gamma=0.001.........................................\n",
      "[CV 3/5; 18/30] END ..........C=10, gamma=0.001;, score=0.934 total time=   0.0s\n",
      "[CV 4/5; 18/30] START C=10, gamma=0.001.........................................\n",
      "[CV 4/5; 18/30] END ..........C=10, gamma=0.001;, score=0.879 total time=   0.0s\n",
      "[CV 5/5; 18/30] START C=10, gamma=0.001.........................................\n",
      "[CV 5/5; 18/30] END ..........C=10, gamma=0.001;, score=0.890 total time=   0.0s\n",
      "[CV 1/5; 19/30] START C=100, gamma=100..........................................\n",
      "[CV 1/5; 19/30] END ...........C=100, gamma=100;, score=0.615 total time=   0.0s\n",
      "[CV 2/5; 19/30] START C=100, gamma=100..........................................\n",
      "[CV 2/5; 19/30] END ...........C=100, gamma=100;, score=0.615 total time=   0.0s\n",
      "[CV 3/5; 19/30] START C=100, gamma=100..........................................\n",
      "[CV 3/5; 19/30] END ...........C=100, gamma=100;, score=0.626 total time=   0.0s\n",
      "[CV 4/5; 19/30] START C=100, gamma=100..........................................\n",
      "[CV 4/5; 19/30] END ...........C=100, gamma=100;, score=0.626 total time=   0.0s\n",
      "[CV 5/5; 19/30] START C=100, gamma=100..........................................\n",
      "[CV 5/5; 19/30] END ...........C=100, gamma=100;, score=0.626 total time=   0.0s\n",
      "[CV 1/5; 20/30] START C=100, gamma=10...........................................\n",
      "[CV 1/5; 20/30] END ............C=100, gamma=10;, score=0.615 total time=   0.0s\n",
      "[CV 2/5; 20/30] START C=100, gamma=10...........................................\n",
      "[CV 2/5; 20/30] END ............C=100, gamma=10;, score=0.615 total time=   0.0s\n",
      "[CV 3/5; 20/30] START C=100, gamma=10...........................................\n",
      "[CV 3/5; 20/30] END ............C=100, gamma=10;, score=0.626 total time=   0.0s\n",
      "[CV 4/5; 20/30] START C=100, gamma=10...........................................\n",
      "[CV 4/5; 20/30] END ............C=100, gamma=10;, score=0.626 total time=   0.0s\n",
      "[CV 5/5; 20/30] START C=100, gamma=10...........................................\n",
      "[CV 5/5; 20/30] END ............C=100, gamma=10;, score=0.626 total time=   0.0s\n",
      "[CV 1/5; 21/30] START C=100, gamma=1............................................\n",
      "[CV 1/5; 21/30] END .............C=100, gamma=1;, score=0.615 total time=   0.0s\n",
      "[CV 2/5; 21/30] START C=100, gamma=1............................................\n",
      "[CV 2/5; 21/30] END .............C=100, gamma=1;, score=0.615 total time=   0.0s\n",
      "[CV 3/5; 21/30] START C=100, gamma=1............................................\n",
      "[CV 3/5; 21/30] END .............C=100, gamma=1;, score=0.626 total time=   0.0s\n",
      "[CV 4/5; 21/30] START C=100, gamma=1............................................\n",
      "[CV 4/5; 21/30] END .............C=100, gamma=1;, score=0.626 total time=   0.0s\n",
      "[CV 5/5; 21/30] START C=100, gamma=1............................................\n",
      "[CV 5/5; 21/30] END .............C=100, gamma=1;, score=0.626 total time=   0.0s\n",
      "[CV 1/5; 22/30] START C=100, gamma=0.1..........................................\n",
      "[CV 1/5; 22/30] END ...........C=100, gamma=0.1;, score=0.615 total time=   0.0s\n",
      "[CV 2/5; 22/30] START C=100, gamma=0.1..........................................\n",
      "[CV 2/5; 22/30] END ...........C=100, gamma=0.1;, score=0.615 total time=   0.0s\n",
      "[CV 3/5; 22/30] START C=100, gamma=0.1..........................................\n",
      "[CV 3/5; 22/30] END ...........C=100, gamma=0.1;, score=0.626 total time=   0.0s\n",
      "[CV 4/5; 22/30] START C=100, gamma=0.1..........................................\n",
      "[CV 4/5; 22/30] END ...........C=100, gamma=0.1;, score=0.626 total time=   0.0s\n",
      "[CV 5/5; 22/30] START C=100, gamma=0.1..........................................\n",
      "[CV 5/5; 22/30] END ...........C=100, gamma=0.1;, score=0.626 total time=   0.0s\n",
      "[CV 1/5; 23/30] START C=100, gamma=0.01.........................................\n",
      "[CV 1/5; 23/30] END ..........C=100, gamma=0.01;, score=0.615 total time=   0.0s\n",
      "[CV 2/5; 23/30] START C=100, gamma=0.01.........................................\n",
      "[CV 2/5; 23/30] END ..........C=100, gamma=0.01;, score=0.615 total time=   0.0s\n",
      "[CV 3/5; 23/30] START C=100, gamma=0.01.........................................\n",
      "[CV 3/5; 23/30] END ..........C=100, gamma=0.01;, score=0.626 total time=   0.0s\n",
      "[CV 4/5; 23/30] START C=100, gamma=0.01.........................................\n",
      "[CV 4/5; 23/30] END ..........C=100, gamma=0.01;, score=0.626 total time=   0.0s\n",
      "[CV 5/5; 23/30] START C=100, gamma=0.01.........................................\n",
      "[CV 5/5; 23/30] END ..........C=100, gamma=0.01;, score=0.604 total time=   0.0s\n",
      "[CV 1/5; 24/30] START C=100, gamma=0.001........................................\n",
      "[CV 1/5; 24/30] END .........C=100, gamma=0.001;, score=0.956 total time=   0.0s\n",
      "[CV 2/5; 24/30] START C=100, gamma=0.001........................................\n",
      "[CV 2/5; 24/30] END .........C=100, gamma=0.001;, score=0.846 total time=   0.0s\n",
      "[CV 3/5; 24/30] START C=100, gamma=0.001........................................\n",
      "[CV 3/5; 24/30] END .........C=100, gamma=0.001;, score=0.934 total time=   0.0s\n",
      "[CV 4/5; 24/30] START C=100, gamma=0.001........................................\n",
      "[CV 4/5; 24/30] END .........C=100, gamma=0.001;, score=0.879 total time=   0.0s\n",
      "[CV 5/5; 24/30] START C=100, gamma=0.001........................................\n",
      "[CV 5/5; 24/30] END .........C=100, gamma=0.001;, score=0.890 total time=   0.0s\n",
      "[CV 1/5; 25/30] START C=1000, gamma=100.........................................\n",
      "[CV 1/5; 25/30] END ..........C=1000, gamma=100;, score=0.615 total time=   0.0s\n",
      "[CV 2/5; 25/30] START C=1000, gamma=100.........................................\n",
      "[CV 2/5; 25/30] END ..........C=1000, gamma=100;, score=0.615 total time=   0.0s\n",
      "[CV 3/5; 25/30] START C=1000, gamma=100.........................................\n",
      "[CV 3/5; 25/30] END ..........C=1000, gamma=100;, score=0.626 total time=   0.0s\n",
      "[CV 4/5; 25/30] START C=1000, gamma=100.........................................\n",
      "[CV 4/5; 25/30] END ..........C=1000, gamma=100;, score=0.626 total time=   0.0s\n",
      "[CV 5/5; 25/30] START C=1000, gamma=100.........................................\n",
      "[CV 5/5; 25/30] END ..........C=1000, gamma=100;, score=0.626 total time=   0.0s\n",
      "[CV 1/5; 26/30] START C=1000, gamma=10..........................................\n",
      "[CV 1/5; 26/30] END ...........C=1000, gamma=10;, score=0.615 total time=   0.0s\n",
      "[CV 2/5; 26/30] START C=1000, gamma=10..........................................\n",
      "[CV 2/5; 26/30] END ...........C=1000, gamma=10;, score=0.615 total time=   0.0s\n",
      "[CV 3/5; 26/30] START C=1000, gamma=10..........................................\n",
      "[CV 3/5; 26/30] END ...........C=1000, gamma=10;, score=0.626 total time=   0.0s\n",
      "[CV 4/5; 26/30] START C=1000, gamma=10..........................................\n",
      "[CV 4/5; 26/30] END ...........C=1000, gamma=10;, score=0.626 total time=   0.0s\n",
      "[CV 5/5; 26/30] START C=1000, gamma=10..........................................\n",
      "[CV 5/5; 26/30] END ...........C=1000, gamma=10;, score=0.626 total time=   0.0s\n",
      "[CV 1/5; 27/30] START C=1000, gamma=1...........................................\n",
      "[CV 1/5; 27/30] END ............C=1000, gamma=1;, score=0.615 total time=   0.0s\n",
      "[CV 2/5; 27/30] START C=1000, gamma=1...........................................\n",
      "[CV 2/5; 27/30] END ............C=1000, gamma=1;, score=0.615 total time=   0.0s\n",
      "[CV 3/5; 27/30] START C=1000, gamma=1...........................................\n",
      "[CV 3/5; 27/30] END ............C=1000, gamma=1;, score=0.626 total time=   0.0s\n",
      "[CV 4/5; 27/30] START C=1000, gamma=1...........................................\n",
      "[CV 4/5; 27/30] END ............C=1000, gamma=1;, score=0.626 total time=   0.0s\n",
      "[CV 5/5; 27/30] START C=1000, gamma=1...........................................\n",
      "[CV 5/5; 27/30] END ............C=1000, gamma=1;, score=0.626 total time=   0.0s\n",
      "[CV 1/5; 28/30] START C=1000, gamma=0.1.........................................\n",
      "[CV 1/5; 28/30] END ..........C=1000, gamma=0.1;, score=0.615 total time=   0.0s\n",
      "[CV 2/5; 28/30] START C=1000, gamma=0.1.........................................\n",
      "[CV 2/5; 28/30] END ..........C=1000, gamma=0.1;, score=0.615 total time=   0.0s\n",
      "[CV 3/5; 28/30] START C=1000, gamma=0.1.........................................\n",
      "[CV 3/5; 28/30] END ..........C=1000, gamma=0.1;, score=0.626 total time=   0.0s\n",
      "[CV 4/5; 28/30] START C=1000, gamma=0.1.........................................\n",
      "[CV 4/5; 28/30] END ..........C=1000, gamma=0.1;, score=0.626 total time=   0.0s\n",
      "[CV 5/5; 28/30] START C=1000, gamma=0.1.........................................\n",
      "[CV 5/5; 28/30] END ..........C=1000, gamma=0.1;, score=0.626 total time=   0.0s\n",
      "[CV 1/5; 29/30] START C=1000, gamma=0.01........................................\n",
      "[CV 1/5; 29/30] END .........C=1000, gamma=0.01;, score=0.615 total time=   0.0s\n",
      "[CV 2/5; 29/30] START C=1000, gamma=0.01........................................\n",
      "[CV 2/5; 29/30] END .........C=1000, gamma=0.01;, score=0.615 total time=   0.0s\n",
      "[CV 3/5; 29/30] START C=1000, gamma=0.01........................................\n",
      "[CV 3/5; 29/30] END .........C=1000, gamma=0.01;, score=0.626 total time=   0.0s\n",
      "[CV 4/5; 29/30] START C=1000, gamma=0.01........................................\n",
      "[CV 4/5; 29/30] END .........C=1000, gamma=0.01;, score=0.626 total time=   0.0s\n",
      "[CV 5/5; 29/30] START C=1000, gamma=0.01........................................\n",
      "[CV 5/5; 29/30] END .........C=1000, gamma=0.01;, score=0.604 total time=   0.0s\n",
      "[CV 1/5; 30/30] START C=1000, gamma=0.001.......................................\n",
      "[CV 1/5; 30/30] END ........C=1000, gamma=0.001;, score=0.956 total time=   0.0s\n",
      "[CV 2/5; 30/30] START C=1000, gamma=0.001.......................................\n",
      "[CV 2/5; 30/30] END ........C=1000, gamma=0.001;, score=0.846 total time=   0.0s\n",
      "[CV 3/5; 30/30] START C=1000, gamma=0.001.......................................\n",
      "[CV 3/5; 30/30] END ........C=1000, gamma=0.001;, score=0.934 total time=   0.0s\n",
      "[CV 4/5; 30/30] START C=1000, gamma=0.001.......................................\n",
      "[CV 4/5; 30/30] END ........C=1000, gamma=0.001;, score=0.879 total time=   0.0s\n",
      "[CV 5/5; 30/30] START C=1000, gamma=0.001.......................................\n",
      "[CV 5/5; 30/30] END ........C=1000, gamma=0.001;, score=0.890 total time=   0.0s\n"
     ]
    },
    {
     "data": {
      "text/plain": [
       "GridSearchCV(estimator=SVC(),\n",
       "             param_grid={'C': [0.1, 1, 10, 100, 1000],\n",
       "                         'gamma': [100, 10, 1, 0.1, 0.01, 0.001]},\n",
       "             verbose=10)"
      ]
     },
     "execution_count": 81,
     "metadata": {},
     "output_type": "execute_result"
    }
   ],
   "source": [
    "grid.fit(X_train, y_train)"
   ]
  },
  {
   "cell_type": "markdown",
   "id": "b24d734f",
   "metadata": {},
   "source": [
    "Return the best parameters for SVC."
   ]
  },
  {
   "cell_type": "code",
   "execution_count": 82,
   "id": "32ce0797",
   "metadata": {},
   "outputs": [
    {
     "data": {
      "text/plain": [
       "{'C': 1, 'gamma': 0.001}"
      ]
     },
     "execution_count": 82,
     "metadata": {},
     "output_type": "execute_result"
    }
   ],
   "source": [
    "grid.best_params_"
   ]
  },
  {
   "cell_type": "code",
   "execution_count": 83,
   "id": "10039152",
   "metadata": {},
   "outputs": [],
   "source": [
    "pred = grid.predict(X_test)"
   ]
  },
  {
   "cell_type": "code",
   "execution_count": 84,
   "id": "4591fed5",
   "metadata": {},
   "outputs": [
    {
     "name": "stdout",
     "output_type": "stream",
     "text": [
      "              precision    recall  f1-score   support\n",
      "\n",
      "           0       0.90      0.88      0.89        40\n",
      "           1       0.93      0.95      0.94        74\n",
      "\n",
      "    accuracy                           0.92       114\n",
      "   macro avg       0.92      0.91      0.91       114\n",
      "weighted avg       0.92      0.92      0.92       114\n",
      "\n"
     ]
    }
   ],
   "source": [
    "print(classification_report(y_test, pred))"
   ]
  },
  {
   "cell_type": "markdown",
   "id": "8714cdb4",
   "metadata": {},
   "source": [
    "And, we got better results. Take note that recall value for 0 (malignant tumors) has increased from 0.72 to 0.88, which is one of our primary concerns in this model."
   ]
  },
  {
   "cell_type": "markdown",
   "id": "9150998f",
   "metadata": {},
   "source": [
    "# SVM for Iris Dataset"
   ]
  },
  {
   "cell_type": "code",
   "execution_count": 86,
   "id": "1c8d1576",
   "metadata": {},
   "outputs": [
    {
     "data": {
      "text/html": [
       "<div>\n",
       "<style scoped>\n",
       "    .dataframe tbody tr th:only-of-type {\n",
       "        vertical-align: middle;\n",
       "    }\n",
       "\n",
       "    .dataframe tbody tr th {\n",
       "        vertical-align: top;\n",
       "    }\n",
       "\n",
       "    .dataframe thead th {\n",
       "        text-align: right;\n",
       "    }\n",
       "</style>\n",
       "<table border=\"1\" class=\"dataframe\">\n",
       "  <thead>\n",
       "    <tr style=\"text-align: right;\">\n",
       "      <th></th>\n",
       "      <th>sepal_length</th>\n",
       "      <th>sepal_width</th>\n",
       "      <th>petal_length</th>\n",
       "      <th>petal_width</th>\n",
       "      <th>species</th>\n",
       "    </tr>\n",
       "  </thead>\n",
       "  <tbody>\n",
       "    <tr>\n",
       "      <th>0</th>\n",
       "      <td>5.1</td>\n",
       "      <td>3.5</td>\n",
       "      <td>1.4</td>\n",
       "      <td>0.2</td>\n",
       "      <td>setosa</td>\n",
       "    </tr>\n",
       "    <tr>\n",
       "      <th>1</th>\n",
       "      <td>4.9</td>\n",
       "      <td>3.0</td>\n",
       "      <td>1.4</td>\n",
       "      <td>0.2</td>\n",
       "      <td>setosa</td>\n",
       "    </tr>\n",
       "    <tr>\n",
       "      <th>2</th>\n",
       "      <td>4.7</td>\n",
       "      <td>3.2</td>\n",
       "      <td>1.3</td>\n",
       "      <td>0.2</td>\n",
       "      <td>setosa</td>\n",
       "    </tr>\n",
       "    <tr>\n",
       "      <th>3</th>\n",
       "      <td>4.6</td>\n",
       "      <td>3.1</td>\n",
       "      <td>1.5</td>\n",
       "      <td>0.2</td>\n",
       "      <td>setosa</td>\n",
       "    </tr>\n",
       "    <tr>\n",
       "      <th>4</th>\n",
       "      <td>5.0</td>\n",
       "      <td>3.6</td>\n",
       "      <td>1.4</td>\n",
       "      <td>0.2</td>\n",
       "      <td>setosa</td>\n",
       "    </tr>\n",
       "  </tbody>\n",
       "</table>\n",
       "</div>"
      ],
      "text/plain": [
       "   sepal_length  sepal_width  petal_length  petal_width species\n",
       "0           5.1          3.5           1.4          0.2  setosa\n",
       "1           4.9          3.0           1.4          0.2  setosa\n",
       "2           4.7          3.2           1.3          0.2  setosa\n",
       "3           4.6          3.1           1.5          0.2  setosa\n",
       "4           5.0          3.6           1.4          0.2  setosa"
      ]
     },
     "execution_count": 86,
     "metadata": {},
     "output_type": "execute_result"
    }
   ],
   "source": [
    "df = sns.load_dataset('iris')\n",
    "df.head()"
   ]
  },
  {
   "cell_type": "markdown",
   "id": "4846c501",
   "metadata": {},
   "source": [
    "How many different species do we have in the dataset?"
   ]
  },
  {
   "cell_type": "code",
   "execution_count": 87,
   "id": "aa990020",
   "metadata": {},
   "outputs": [
    {
     "data": {
      "text/plain": [
       "array(['setosa', 'versicolor', 'virginica'], dtype=object)"
      ]
     },
     "execution_count": 87,
     "metadata": {},
     "output_type": "execute_result"
    }
   ],
   "source": [
    "df.species.unique()"
   ]
  },
  {
   "cell_type": "markdown",
   "id": "cad54c77",
   "metadata": {},
   "source": [
    "How are the species distributed?"
   ]
  },
  {
   "cell_type": "code",
   "execution_count": 92,
   "id": "bca37436",
   "metadata": {},
   "outputs": [
    {
     "data": {
      "text/plain": [
       "<AxesSubplot:>"
      ]
     },
     "execution_count": 92,
     "metadata": {},
     "output_type": "execute_result"
    },
    {
     "data": {
      "image/png": "[encoded data removed]",
      "text/plain": [
       "<Figure size 432x288 with 1 Axes>"
      ]
     },
     "metadata": {
      "needs_background": "light"
     },
     "output_type": "display_data"
    }
   ],
   "source": [
    "df.species.value_counts().plot(kind='bar')"
   ]
  },
  {
   "cell_type": "markdown",
   "id": "772a8130",
   "metadata": {},
   "source": [
    "Check for null values."
   ]
  },
  {
   "cell_type": "code",
   "execution_count": 94,
   "id": "d2d086f6",
   "metadata": {},
   "outputs": [
    {
     "data": {
      "text/plain": [
       "sepal_length    0\n",
       "sepal_width     0\n",
       "petal_length    0\n",
       "petal_width     0\n",
       "species         0\n",
       "dtype: int64"
      ]
     },
     "execution_count": 94,
     "metadata": {},
     "output_type": "execute_result"
    }
   ],
   "source": [
    "df.isna().sum()"
   ]
  },
  {
   "cell_type": "markdown",
   "id": "a74b1c2b",
   "metadata": {},
   "source": [
    "Plot the linear plot of sepal and petal length of each species, colored by their species class."
   ]
  },
  {
   "cell_type": "code",
   "execution_count": 108,
   "id": "c0f723c8",
   "metadata": {},
   "outputs": [
    {
     "name": "stderr",
     "output_type": "stream",
     "text": [
      "C:\\Users\\Lenovo\\anaconda3\\lib\\site-packages\\seaborn\\regression.py:580: UserWarning: The `size` parameter has been renamed to `height`; please update your code.\n",
      "  warnings.warn(msg, UserWarning)\n"
     ]
    },
    {
     "data": {
      "text/plain": [
       "<seaborn.axisgrid.FacetGrid at 0x20dbc7cc310>"
      ]
     },
     "execution_count": 108,
     "metadata": {},
     "output_type": "execute_result"
    },
    {
     "data": {
      "image/png": "[encoded data removed]",
      "text/plain": [
       "<Figure size 516.75x432 with 1 Axes>"
      ]
     },
     "metadata": {
      "needs_background": "light"
     },
     "output_type": "display_data"
    }
   ],
   "source": [
    "sns.lmplot(data=df, x='sepal_length', y='petal_length', hue='species', palette='bright', size=6, height=5)"
   ]
  },
  {
   "cell_type": "markdown",
   "id": "d5d94f03",
   "metadata": {},
   "source": [
    "The species can be clearly distinguished by the combination of their sepal length and petal length, and Virginica is the species whose sepal length and petal length are correlated most. <br>\n",
    "Now show the same relation for sepal and petal width."
   ]
  },
  {
   "cell_type": "code",
   "execution_count": 109,
   "id": "99281ef4",
   "metadata": {},
   "outputs": [
    {
     "data": {
      "text/plain": [
       "<seaborn.axisgrid.JointGrid at 0x20dbda2d730>"
      ]
     },
     "execution_count": 109,
     "metadata": {},
     "output_type": "execute_result"
    },
    {
     "data": {
      "image/png": "[encoded data removed]",
      "text/plain": [
       "<Figure size 432x432 with 3 Axes>"
      ]
     },
     "metadata": {
      "needs_background": "light"
     },
     "output_type": "display_data"
    }
   ],
   "source": [
    "sns.jointplot(data=df, x='sepal_width', y='petal_width', hue='species')"
   ]
  },
  {
   "cell_type": "markdown",
   "id": "6cc547f5",
   "metadata": {},
   "source": [
    "Create a kde plot of sepal length and width of virginica species of flower."
   ]
  },
  {
   "cell_type": "code",
   "execution_count": 135,
   "id": "fcfe5028",
   "metadata": {},
   "outputs": [
    {
     "data": {
      "image/png": "[encoded data removed]",
      "text/plain": [
       "<Figure size 432x288 with 2 Axes>"
      ]
     },
     "metadata": {
      "needs_background": "light"
     },
     "output_type": "display_data"
    }
   ],
   "source": [
    "virginica = df[df.species == 'virginica']\n",
    "sns.kdeplot(data=virginica, x='sepal_width', y='sepal_length', cmap='plasma', shade=True, cbar=True);"
   ]
  },
  {
   "cell_type": "code",
   "execution_count": null,
   "id": "edc9c039",
   "metadata": {},
   "outputs": [],
   "source": []
  },
  {
   "cell_type": "code",
   "execution_count": 111,
   "id": "c3d3863e",
   "metadata": {},
   "outputs": [],
   "source": [
    "X = df.iloc[:, :-1]\n",
    "y = df.iloc[:, -1]\n",
    "\n",
    "X_train, X_test, y_train, y_test = train_test_split(X, y, test_size=0.2)"
   ]
  },
  {
   "cell_type": "code",
   "execution_count": 112,
   "id": "ef1d10a3",
   "metadata": {},
   "outputs": [],
   "source": [
    "svm = SVC()"
   ]
  },
  {
   "cell_type": "code",
   "execution_count": 113,
   "id": "08d2c7af",
   "metadata": {},
   "outputs": [
    {
     "data": {
      "text/plain": [
       "SVC()"
      ]
     },
     "execution_count": 113,
     "metadata": {},
     "output_type": "execute_result"
    }
   ],
   "source": [
    "svm.fit(X_train, y_train)"
   ]
  },
  {
   "cell_type": "code",
   "execution_count": 114,
   "id": "c7fb74b6",
   "metadata": {},
   "outputs": [],
   "source": [
    "pred = svm.predict(X_test)"
   ]
  },
  {
   "cell_type": "code",
   "execution_count": 115,
   "id": "acade13b",
   "metadata": {},
   "outputs": [
    {
     "name": "stdout",
     "output_type": "stream",
     "text": [
      "[[12  0  0]\n",
      " [ 0  8  0]\n",
      " [ 0  1  9]]\n",
      "\n",
      "\n",
      "              precision    recall  f1-score   support\n",
      "\n",
      "      setosa       1.00      1.00      1.00        12\n",
      "  versicolor       0.89      1.00      0.94         8\n",
      "   virginica       1.00      0.90      0.95        10\n",
      "\n",
      "    accuracy                           0.97        30\n",
      "   macro avg       0.96      0.97      0.96        30\n",
      "weighted avg       0.97      0.97      0.97        30\n",
      "\n"
     ]
    }
   ],
   "source": [
    "print(confusion_matrix(y_test, pred))\n",
    "print('\\n')\n",
    "print(classification_report(y_test, pred))"
   ]
  },
  {
   "cell_type": "markdown",
   "id": "0022ccf3",
   "metadata": {},
   "source": [
    "SVM has alread done very well without GridSearch but let's assemble the model again with GridSearch."
   ]
  },
  {
   "cell_type": "code",
   "execution_count": 123,
   "id": "dec58b07",
   "metadata": {},
   "outputs": [],
   "source": [
    "param_grid = {'C': [(10)**i for i in range(-5, 5)], 'gamma': [(10)**i for i in range(-7, 3)]}\n",
    "\n",
    "grid = GridSearchCV(SVC(), param_grid, verbose=3)"
   ]
  },
  {
   "cell_type": "code",
   "execution_count": 124,
   "id": "997512cf",
   "metadata": {},
   "outputs": [
    {
     "name": "stdout",
     "output_type": "stream",
     "text": [
      "Fitting 5 folds for each of 100 candidates, totalling 500 fits\n",
      "[CV 1/5] END ..............C=1e-05, gamma=1e-07;, score=0.333 total time=   0.0s\n",
      "[CV 2/5] END ..............C=1e-05, gamma=1e-07;, score=0.333 total time=   0.0s\n",
      "[CV 3/5] END ..............C=1e-05, gamma=1e-07;, score=0.333 total time=   0.0s\n",
      "[CV 4/5] END ..............C=1e-05, gamma=1e-07;, score=0.375 total time=   0.0s\n",
      "[CV 5/5] END ..............C=1e-05, gamma=1e-07;, score=0.375 total time=   0.0s\n",
      "[CV 1/5] END ..............C=1e-05, gamma=1e-06;, score=0.333 total time=   0.0s\n",
      "[CV 2/5] END ..............C=1e-05, gamma=1e-06;, score=0.333 total time=   0.0s\n",
      "[CV 3/5] END ..............C=1e-05, gamma=1e-06;, score=0.333 total time=   0.0s\n",
      "[CV 4/5] END ..............C=1e-05, gamma=1e-06;, score=0.375 total time=   0.0s\n",
      "[CV 5/5] END ..............C=1e-05, gamma=1e-06;, score=0.375 total time=   0.0s\n",
      "[CV 1/5] END ..............C=1e-05, gamma=1e-05;, score=0.333 total time=   0.0s\n",
      "[CV 2/5] END ..............C=1e-05, gamma=1e-05;, score=0.333 total time=   0.0s\n",
      "[CV 3/5] END ..............C=1e-05, gamma=1e-05;, score=0.333 total time=   0.0s\n",
      "[CV 4/5] END ..............C=1e-05, gamma=1e-05;, score=0.375 total time=   0.0s\n",
      "[CV 5/5] END ..............C=1e-05, gamma=1e-05;, score=0.375 total time=   0.0s\n",
      "[CV 1/5] END .............C=1e-05, gamma=0.0001;, score=0.333 total time=   0.0s\n",
      "[CV 2/5] END .............C=1e-05, gamma=0.0001;, score=0.333 total time=   0.0s\n",
      "[CV 3/5] END .............C=1e-05, gamma=0.0001;, score=0.333 total time=   0.0s\n",
      "[CV 4/5] END .............C=1e-05, gamma=0.0001;, score=0.375 total time=   0.0s\n",
      "[CV 5/5] END .............C=1e-05, gamma=0.0001;, score=0.375 total time=   0.0s\n",
      "[CV 1/5] END ..............C=1e-05, gamma=0.001;, score=0.333 total time=   0.0s\n",
      "[CV 2/5] END ..............C=1e-05, gamma=0.001;, score=0.333 total time=   0.0s\n",
      "[CV 3/5] END ..............C=1e-05, gamma=0.001;, score=0.333 total time=   0.0s\n",
      "[CV 4/5] END ..............C=1e-05, gamma=0.001;, score=0.375 total time=   0.0s\n",
      "[CV 5/5] END ..............C=1e-05, gamma=0.001;, score=0.375 total time=   0.0s\n",
      "[CV 1/5] END ...............C=1e-05, gamma=0.01;, score=0.333 total time=   0.0s\n",
      "[CV 2/5] END ...............C=1e-05, gamma=0.01;, score=0.333 total time=   0.0s\n",
      "[CV 3/5] END ...............C=1e-05, gamma=0.01;, score=0.333 total time=   0.0s\n",
      "[CV 4/5] END ...............C=1e-05, gamma=0.01;, score=0.375 total time=   0.0s\n",
      "[CV 5/5] END ...............C=1e-05, gamma=0.01;, score=0.375 total time=   0.0s\n",
      "[CV 1/5] END ................C=1e-05, gamma=0.1;, score=0.333 total time=   0.0s\n",
      "[CV 2/5] END ................C=1e-05, gamma=0.1;, score=0.333 total time=   0.0s\n",
      "[CV 3/5] END ................C=1e-05, gamma=0.1;, score=0.333 total time=   0.0s\n",
      "[CV 4/5] END ................C=1e-05, gamma=0.1;, score=0.375 total time=   0.0s\n",
      "[CV 5/5] END ................C=1e-05, gamma=0.1;, score=0.375 total time=   0.0s\n",
      "[CV 1/5] END ..................C=1e-05, gamma=1;, score=0.333 total time=   0.0s\n",
      "[CV 2/5] END ..................C=1e-05, gamma=1;, score=0.333 total time=   0.0s\n",
      "[CV 3/5] END ..................C=1e-05, gamma=1;, score=0.333 total time=   0.0s\n",
      "[CV 4/5] END ..................C=1e-05, gamma=1;, score=0.375 total time=   0.0s\n",
      "[CV 5/5] END ..................C=1e-05, gamma=1;, score=0.375 total time=   0.0s\n",
      "[CV 1/5] END .................C=1e-05, gamma=10;, score=0.333 total time=   0.0s\n",
      "[CV 2/5] END .................C=1e-05, gamma=10;, score=0.333 total time=   0.0s\n",
      "[CV 3/5] END .................C=1e-05, gamma=10;, score=0.333 total time=   0.0s\n",
      "[CV 4/5] END .................C=1e-05, gamma=10;, score=0.375 total time=   0.0s\n",
      "[CV 5/5] END .................C=1e-05, gamma=10;, score=0.375 total time=   0.0s\n",
      "[CV 1/5] END ................C=1e-05, gamma=100;, score=0.333 total time=   0.0s\n",
      "[CV 2/5] END ................C=1e-05, gamma=100;, score=0.333 total time=   0.0s\n",
      "[CV 3/5] END ................C=1e-05, gamma=100;, score=0.333 total time=   0.0s\n",
      "[CV 4/5] END ................C=1e-05, gamma=100;, score=0.375 total time=   0.0s\n",
      "[CV 5/5] END ................C=1e-05, gamma=100;, score=0.375 total time=   0.0s\n",
      "[CV 1/5] END .............C=0.0001, gamma=1e-07;, score=0.333 total time=   0.0s\n",
      "[CV 2/5] END .............C=0.0001, gamma=1e-07;, score=0.333 total time=   0.0s\n",
      "[CV 3/5] END .............C=0.0001, gamma=1e-07;, score=0.333 total time=   0.0s\n",
      "[CV 4/5] END .............C=0.0001, gamma=1e-07;, score=0.375 total time=   0.0s\n",
      "[CV 5/5] END .............C=0.0001, gamma=1e-07;, score=0.375 total time=   0.0s\n",
      "[CV 1/5] END .............C=0.0001, gamma=1e-06;, score=0.333 total time=   0.0s\n",
      "[CV 2/5] END .............C=0.0001, gamma=1e-06;, score=0.333 total time=   0.0s\n",
      "[CV 3/5] END .............C=0.0001, gamma=1e-06;, score=0.333 total time=   0.0s\n",
      "[CV 4/5] END .............C=0.0001, gamma=1e-06;, score=0.375 total time=   0.0s\n",
      "[CV 5/5] END .............C=0.0001, gamma=1e-06;, score=0.375 total time=   0.0s\n",
      "[CV 1/5] END .............C=0.0001, gamma=1e-05;, score=0.333 total time=   0.0s\n",
      "[CV 2/5] END .............C=0.0001, gamma=1e-05;, score=0.333 total time=   0.0s\n",
      "[CV 3/5] END .............C=0.0001, gamma=1e-05;, score=0.333 total time=   0.0s\n",
      "[CV 4/5] END .............C=0.0001, gamma=1e-05;, score=0.375 total time=   0.0s\n",
      "[CV 5/5] END .............C=0.0001, gamma=1e-05;, score=0.375 total time=   0.0s\n",
      "[CV 1/5] END ............C=0.0001, gamma=0.0001;, score=0.333 total time=   0.0s\n",
      "[CV 2/5] END ............C=0.0001, gamma=0.0001;, score=0.333 total time=   0.0s\n",
      "[CV 3/5] END ............C=0.0001, gamma=0.0001;, score=0.333 total time=   0.0s\n",
      "[CV 4/5] END ............C=0.0001, gamma=0.0001;, score=0.375 total time=   0.0s\n",
      "[CV 5/5] END ............C=0.0001, gamma=0.0001;, score=0.375 total time=   0.0s\n",
      "[CV 1/5] END .............C=0.0001, gamma=0.001;, score=0.333 total time=   0.0s\n",
      "[CV 2/5] END .............C=0.0001, gamma=0.001;, score=0.333 total time=   0.0s\n",
      "[CV 3/5] END .............C=0.0001, gamma=0.001;, score=0.333 total time=   0.0s\n",
      "[CV 4/5] END .............C=0.0001, gamma=0.001;, score=0.375 total time=   0.0s\n",
      "[CV 5/5] END .............C=0.0001, gamma=0.001;, score=0.375 total time=   0.0s\n",
      "[CV 1/5] END ..............C=0.0001, gamma=0.01;, score=0.333 total time=   0.0s\n",
      "[CV 2/5] END ..............C=0.0001, gamma=0.01;, score=0.333 total time=   0.0s\n",
      "[CV 3/5] END ..............C=0.0001, gamma=0.01;, score=0.333 total time=   0.0s\n",
      "[CV 4/5] END ..............C=0.0001, gamma=0.01;, score=0.375 total time=   0.0s\n",
      "[CV 5/5] END ..............C=0.0001, gamma=0.01;, score=0.375 total time=   0.0s\n",
      "[CV 1/5] END ...............C=0.0001, gamma=0.1;, score=0.333 total time=   0.0s\n",
      "[CV 2/5] END ...............C=0.0001, gamma=0.1;, score=0.333 total time=   0.0s\n",
      "[CV 3/5] END ...............C=0.0001, gamma=0.1;, score=0.333 total time=   0.0s\n",
      "[CV 4/5] END ...............C=0.0001, gamma=0.1;, score=0.375 total time=   0.0s\n",
      "[CV 5/5] END ...............C=0.0001, gamma=0.1;, score=0.375 total time=   0.0s\n",
      "[CV 1/5] END .................C=0.0001, gamma=1;, score=0.333 total time=   0.0s\n",
      "[CV 2/5] END .................C=0.0001, gamma=1;, score=0.333 total time=   0.0s\n",
      "[CV 3/5] END .................C=0.0001, gamma=1;, score=0.333 total time=   0.0s\n",
      "[CV 4/5] END .................C=0.0001, gamma=1;, score=0.375 total time=   0.0s\n",
      "[CV 5/5] END .................C=0.0001, gamma=1;, score=0.375 total time=   0.0s\n",
      "[CV 1/5] END ................C=0.0001, gamma=10;, score=0.333 total time=   0.0s\n",
      "[CV 2/5] END ................C=0.0001, gamma=10;, score=0.333 total time=   0.0s\n",
      "[CV 3/5] END ................C=0.0001, gamma=10;, score=0.333 total time=   0.0s\n",
      "[CV 4/5] END ................C=0.0001, gamma=10;, score=0.375 total time=   0.0s\n",
      "[CV 5/5] END ................C=0.0001, gamma=10;, score=0.375 total time=   0.0s\n",
      "[CV 1/5] END ...............C=0.0001, gamma=100;, score=0.333 total time=   0.0s\n",
      "[CV 2/5] END ...............C=0.0001, gamma=100;, score=0.333 total time=   0.0s\n",
      "[CV 3/5] END ...............C=0.0001, gamma=100;, score=0.333 total time=   0.0s\n",
      "[CV 4/5] END ...............C=0.0001, gamma=100;, score=0.375 total time=   0.0s\n",
      "[CV 5/5] END ...............C=0.0001, gamma=100;, score=0.375 total time=   0.0s\n",
      "[CV 1/5] END ..............C=0.001, gamma=1e-07;, score=0.333 total time=   0.0s\n",
      "[CV 2/5] END ..............C=0.001, gamma=1e-07;, score=0.333 total time=   0.0s\n",
      "[CV 3/5] END ..............C=0.001, gamma=1e-07;, score=0.333 total time=   0.0s\n",
      "[CV 4/5] END ..............C=0.001, gamma=1e-07;, score=0.375 total time=   0.0s\n",
      "[CV 5/5] END ..............C=0.001, gamma=1e-07;, score=0.375 total time=   0.0s\n",
      "[CV 1/5] END ..............C=0.001, gamma=1e-06;, score=0.333 total time=   0.0s\n",
      "[CV 2/5] END ..............C=0.001, gamma=1e-06;, score=0.333 total time=   0.0s\n",
      "[CV 3/5] END ..............C=0.001, gamma=1e-06;, score=0.333 total time=   0.0s\n",
      "[CV 4/5] END ..............C=0.001, gamma=1e-06;, score=0.375 total time=   0.0s\n",
      "[CV 5/5] END ..............C=0.001, gamma=1e-06;, score=0.375 total time=   0.0s\n",
      "[CV 1/5] END ..............C=0.001, gamma=1e-05;, score=0.333 total time=   0.0s\n",
      "[CV 2/5] END ..............C=0.001, gamma=1e-05;, score=0.333 total time=   0.0s\n",
      "[CV 3/5] END ..............C=0.001, gamma=1e-05;, score=0.333 total time=   0.0s\n",
      "[CV 4/5] END ..............C=0.001, gamma=1e-05;, score=0.375 total time=   0.0s\n",
      "[CV 5/5] END ..............C=0.001, gamma=1e-05;, score=0.375 total time=   0.0s\n",
      "[CV 1/5] END .............C=0.001, gamma=0.0001;, score=0.333 total time=   0.0s\n",
      "[CV 2/5] END .............C=0.001, gamma=0.0001;, score=0.333 total time=   0.0s\n",
      "[CV 3/5] END .............C=0.001, gamma=0.0001;, score=0.333 total time=   0.0s\n",
      "[CV 4/5] END .............C=0.001, gamma=0.0001;, score=0.375 total time=   0.0s\n",
      "[CV 5/5] END .............C=0.001, gamma=0.0001;, score=0.375 total time=   0.0s\n",
      "[CV 1/5] END ..............C=0.001, gamma=0.001;, score=0.333 total time=   0.0s\n",
      "[CV 2/5] END ..............C=0.001, gamma=0.001;, score=0.333 total time=   0.0s\n",
      "[CV 3/5] END ..............C=0.001, gamma=0.001;, score=0.333 total time=   0.0s\n",
      "[CV 4/5] END ..............C=0.001, gamma=0.001;, score=0.375 total time=   0.0s\n",
      "[CV 5/5] END ..............C=0.001, gamma=0.001;, score=0.375 total time=   0.0s\n",
      "[CV 1/5] END ...............C=0.001, gamma=0.01;, score=0.333 total time=   0.0s\n",
      "[CV 2/5] END ...............C=0.001, gamma=0.01;, score=0.333 total time=   0.0s\n",
      "[CV 3/5] END ...............C=0.001, gamma=0.01;, score=0.333 total time=   0.0s\n",
      "[CV 4/5] END ...............C=0.001, gamma=0.01;, score=0.375 total time=   0.0s\n",
      "[CV 5/5] END ...............C=0.001, gamma=0.01;, score=0.375 total time=   0.0s\n",
      "[CV 1/5] END ................C=0.001, gamma=0.1;, score=0.333 total time=   0.0s\n",
      "[CV 2/5] END ................C=0.001, gamma=0.1;, score=0.333 total time=   0.0s\n",
      "[CV 3/5] END ................C=0.001, gamma=0.1;, score=0.333 total time=   0.0s\n",
      "[CV 4/5] END ................C=0.001, gamma=0.1;, score=0.375 total time=   0.0s\n",
      "[CV 5/5] END ................C=0.001, gamma=0.1;, score=0.375 total time=   0.0s\n",
      "[CV 1/5] END ..................C=0.001, gamma=1;, score=0.333 total time=   0.0s\n",
      "[CV 2/5] END ..................C=0.001, gamma=1;, score=0.333 total time=   0.0s\n",
      "[CV 3/5] END ..................C=0.001, gamma=1;, score=0.333 total time=   0.0s\n",
      "[CV 4/5] END ..................C=0.001, gamma=1;, score=0.375 total time=   0.0s\n",
      "[CV 5/5] END ..................C=0.001, gamma=1;, score=0.375 total time=   0.0s\n",
      "[CV 1/5] END .................C=0.001, gamma=10;, score=0.333 total time=   0.0s\n",
      "[CV 2/5] END .................C=0.001, gamma=10;, score=0.333 total time=   0.0s\n",
      "[CV 3/5] END .................C=0.001, gamma=10;, score=0.333 total time=   0.0s\n",
      "[CV 4/5] END .................C=0.001, gamma=10;, score=0.375 total time=   0.0s\n",
      "[CV 5/5] END .................C=0.001, gamma=10;, score=0.375 total time=   0.0s\n",
      "[CV 1/5] END ................C=0.001, gamma=100;, score=0.333 total time=   0.0s\n",
      "[CV 2/5] END ................C=0.001, gamma=100;, score=0.333 total time=   0.0s\n",
      "[CV 3/5] END ................C=0.001, gamma=100;, score=0.333 total time=   0.0s\n",
      "[CV 4/5] END ................C=0.001, gamma=100;, score=0.375 total time=   0.0s\n",
      "[CV 5/5] END ................C=0.001, gamma=100;, score=0.375 total time=   0.0s\n",
      "[CV 1/5] END ...............C=0.01, gamma=1e-07;, score=0.333 total time=   0.0s\n",
      "[CV 2/5] END ...............C=0.01, gamma=1e-07;, score=0.333 total time=   0.0s\n",
      "[CV 3/5] END ...............C=0.01, gamma=1e-07;, score=0.333 total time=   0.0s\n",
      "[CV 4/5] END ...............C=0.01, gamma=1e-07;, score=0.375 total time=   0.0s\n",
      "[CV 5/5] END ...............C=0.01, gamma=1e-07;, score=0.375 total time=   0.0s\n",
      "[CV 1/5] END ...............C=0.01, gamma=1e-06;, score=0.333 total time=   0.0s\n",
      "[CV 2/5] END ...............C=0.01, gamma=1e-06;, score=0.333 total time=   0.0s\n",
      "[CV 3/5] END ...............C=0.01, gamma=1e-06;, score=0.333 total time=   0.0s\n",
      "[CV 4/5] END ...............C=0.01, gamma=1e-06;, score=0.375 total time=   0.0s\n",
      "[CV 5/5] END ...............C=0.01, gamma=1e-06;, score=0.375 total time=   0.0s\n",
      "[CV 1/5] END ...............C=0.01, gamma=1e-05;, score=0.333 total time=   0.0s\n",
      "[CV 2/5] END ...............C=0.01, gamma=1e-05;, score=0.333 total time=   0.0s\n",
      "[CV 3/5] END ...............C=0.01, gamma=1e-05;, score=0.333 total time=   0.0s\n",
      "[CV 4/5] END ...............C=0.01, gamma=1e-05;, score=0.375 total time=   0.0s\n",
      "[CV 5/5] END ...............C=0.01, gamma=1e-05;, score=0.375 total time=   0.0s\n",
      "[CV 1/5] END ..............C=0.01, gamma=0.0001;, score=0.333 total time=   0.0s\n",
      "[CV 2/5] END ..............C=0.01, gamma=0.0001;, score=0.333 total time=   0.0s\n",
      "[CV 3/5] END ..............C=0.01, gamma=0.0001;, score=0.333 total time=   0.0s\n",
      "[CV 4/5] END ..............C=0.01, gamma=0.0001;, score=0.375 total time=   0.0s\n",
      "[CV 5/5] END ..............C=0.01, gamma=0.0001;, score=0.375 total time=   0.0s\n",
      "[CV 1/5] END ...............C=0.01, gamma=0.001;, score=0.333 total time=   0.0s\n",
      "[CV 2/5] END ...............C=0.01, gamma=0.001;, score=0.333 total time=   0.0s\n",
      "[CV 3/5] END ...............C=0.01, gamma=0.001;, score=0.333 total time=   0.0s\n",
      "[CV 4/5] END ...............C=0.01, gamma=0.001;, score=0.375 total time=   0.0s\n",
      "[CV 5/5] END ...............C=0.01, gamma=0.001;, score=0.375 total time=   0.0s\n",
      "[CV 1/5] END ................C=0.01, gamma=0.01;, score=0.333 total time=   0.0s\n",
      "[CV 2/5] END ................C=0.01, gamma=0.01;, score=0.333 total time=   0.0s\n",
      "[CV 3/5] END ................C=0.01, gamma=0.01;, score=0.333 total time=   0.0s\n",
      "[CV 4/5] END ................C=0.01, gamma=0.01;, score=0.375 total time=   0.0s\n",
      "[CV 5/5] END ................C=0.01, gamma=0.01;, score=0.375 total time=   0.0s\n",
      "[CV 1/5] END .................C=0.01, gamma=0.1;, score=0.333 total time=   0.0s\n",
      "[CV 2/5] END .................C=0.01, gamma=0.1;, score=0.333 total time=   0.0s\n",
      "[CV 3/5] END .................C=0.01, gamma=0.1;, score=0.333 total time=   0.0s\n",
      "[CV 4/5] END .................C=0.01, gamma=0.1;, score=0.375 total time=   0.0s\n",
      "[CV 5/5] END .................C=0.01, gamma=0.1;, score=0.375 total time=   0.0s\n",
      "[CV 1/5] END ...................C=0.01, gamma=1;, score=0.333 total time=   0.0s\n",
      "[CV 2/5] END ...................C=0.01, gamma=1;, score=0.333 total time=   0.0s\n",
      "[CV 3/5] END ...................C=0.01, gamma=1;, score=0.333 total time=   0.0s\n",
      "[CV 4/5] END ...................C=0.01, gamma=1;, score=0.375 total time=   0.0s\n",
      "[CV 5/5] END ...................C=0.01, gamma=1;, score=0.375 total time=   0.0s\n",
      "[CV 1/5] END ..................C=0.01, gamma=10;, score=0.333 total time=   0.0s\n",
      "[CV 2/5] END ..................C=0.01, gamma=10;, score=0.333 total time=   0.0s\n",
      "[CV 3/5] END ..................C=0.01, gamma=10;, score=0.333 total time=   0.0s\n",
      "[CV 4/5] END ..................C=0.01, gamma=10;, score=0.375 total time=   0.0s\n",
      "[CV 5/5] END ..................C=0.01, gamma=10;, score=0.375 total time=   0.0s\n",
      "[CV 1/5] END .................C=0.01, gamma=100;, score=0.333 total time=   0.0s\n",
      "[CV 2/5] END .................C=0.01, gamma=100;, score=0.333 total time=   0.0s\n",
      "[CV 3/5] END .................C=0.01, gamma=100;, score=0.333 total time=   0.0s\n",
      "[CV 4/5] END .................C=0.01, gamma=100;, score=0.375 total time=   0.0s\n",
      "[CV 5/5] END .................C=0.01, gamma=100;, score=0.375 total time=   0.0s\n",
      "[CV 1/5] END ................C=0.1, gamma=1e-07;, score=0.333 total time=   0.0s\n",
      "[CV 2/5] END ................C=0.1, gamma=1e-07;, score=0.333 total time=   0.0s\n",
      "[CV 3/5] END ................C=0.1, gamma=1e-07;, score=0.333 total time=   0.0s\n",
      "[CV 4/5] END ................C=0.1, gamma=1e-07;, score=0.375 total time=   0.0s\n",
      "[CV 5/5] END ................C=0.1, gamma=1e-07;, score=0.375 total time=   0.0s\n",
      "[CV 1/5] END ................C=0.1, gamma=1e-06;, score=0.333 total time=   0.0s\n",
      "[CV 2/5] END ................C=0.1, gamma=1e-06;, score=0.333 total time=   0.0s\n",
      "[CV 3/5] END ................C=0.1, gamma=1e-06;, score=0.333 total time=   0.0s\n",
      "[CV 4/5] END ................C=0.1, gamma=1e-06;, score=0.375 total time=   0.0s\n",
      "[CV 5/5] END ................C=0.1, gamma=1e-06;, score=0.375 total time=   0.0s\n",
      "[CV 1/5] END ................C=0.1, gamma=1e-05;, score=0.333 total time=   0.0s\n",
      "[CV 2/5] END ................C=0.1, gamma=1e-05;, score=0.333 total time=   0.0s\n",
      "[CV 3/5] END ................C=0.1, gamma=1e-05;, score=0.333 total time=   0.0s\n",
      "[CV 4/5] END ................C=0.1, gamma=1e-05;, score=0.375 total time=   0.0s\n",
      "[CV 5/5] END ................C=0.1, gamma=1e-05;, score=0.375 total time=   0.0s\n",
      "[CV 1/5] END ...............C=0.1, gamma=0.0001;, score=0.333 total time=   0.0s\n",
      "[CV 2/5] END ...............C=0.1, gamma=0.0001;, score=0.333 total time=   0.0s\n",
      "[CV 3/5] END ...............C=0.1, gamma=0.0001;, score=0.333 total time=   0.0s\n",
      "[CV 4/5] END ...............C=0.1, gamma=0.0001;, score=0.375 total time=   0.0s\n",
      "[CV 5/5] END ...............C=0.1, gamma=0.0001;, score=0.375 total time=   0.0s\n",
      "[CV 1/5] END ................C=0.1, gamma=0.001;, score=0.333 total time=   0.0s\n",
      "[CV 2/5] END ................C=0.1, gamma=0.001;, score=0.333 total time=   0.0s\n",
      "[CV 3/5] END ................C=0.1, gamma=0.001;, score=0.333 total time=   0.0s\n",
      "[CV 4/5] END ................C=0.1, gamma=0.001;, score=0.375 total time=   0.0s\n",
      "[CV 5/5] END ................C=0.1, gamma=0.001;, score=0.375 total time=   0.0s\n",
      "[CV 1/5] END .................C=0.1, gamma=0.01;, score=0.333 total time=   0.0s\n",
      "[CV 2/5] END .................C=0.1, gamma=0.01;, score=0.333 total time=   0.0s\n",
      "[CV 3/5] END .................C=0.1, gamma=0.01;, score=0.333 total time=   0.0s\n",
      "[CV 4/5] END .................C=0.1, gamma=0.01;, score=0.375 total time=   0.0s\n",
      "[CV 5/5] END .................C=0.1, gamma=0.01;, score=0.375 total time=   0.0s\n",
      "[CV 1/5] END ..................C=0.1, gamma=0.1;, score=0.958 total time=   0.0s\n",
      "[CV 2/5] END ..................C=0.1, gamma=0.1;, score=0.917 total time=   0.0s\n",
      "[CV 3/5] END ..................C=0.1, gamma=0.1;, score=0.792 total time=   0.0s\n",
      "[CV 4/5] END ..................C=0.1, gamma=0.1;, score=0.958 total time=   0.0s\n",
      "[CV 5/5] END ..................C=0.1, gamma=0.1;, score=0.958 total time=   0.0s\n",
      "[CV 1/5] END ....................C=0.1, gamma=1;, score=1.000 total time=   0.0s\n",
      "[CV 2/5] END ....................C=0.1, gamma=1;, score=0.958 total time=   0.0s\n",
      "[CV 3/5] END ....................C=0.1, gamma=1;, score=0.875 total time=   0.0s\n",
      "[CV 4/5] END ....................C=0.1, gamma=1;, score=0.958 total time=   0.0s\n",
      "[CV 5/5] END ....................C=0.1, gamma=1;, score=0.917 total time=   0.0s\n",
      "[CV 1/5] END ...................C=0.1, gamma=10;, score=0.333 total time=   0.0s\n",
      "[CV 2/5] END ...................C=0.1, gamma=10;, score=0.333 total time=   0.0s\n",
      "[CV 3/5] END ...................C=0.1, gamma=10;, score=0.333 total time=   0.0s\n",
      "[CV 4/5] END ...................C=0.1, gamma=10;, score=0.417 total time=   0.0s\n",
      "[CV 5/5] END ...................C=0.1, gamma=10;, score=0.375 total time=   0.0s\n",
      "[CV 1/5] END ..................C=0.1, gamma=100;, score=0.333 total time=   0.0s\n",
      "[CV 2/5] END ..................C=0.1, gamma=100;, score=0.333 total time=   0.0s\n",
      "[CV 3/5] END ..................C=0.1, gamma=100;, score=0.333 total time=   0.0s\n",
      "[CV 4/5] END ..................C=0.1, gamma=100;, score=0.375 total time=   0.0s\n",
      "[CV 5/5] END ..................C=0.1, gamma=100;, score=0.375 total time=   0.0s\n",
      "[CV 1/5] END ..................C=1, gamma=1e-07;, score=0.333 total time=   0.0s\n",
      "[CV 2/5] END ..................C=1, gamma=1e-07;, score=0.333 total time=   0.0s\n",
      "[CV 3/5] END ..................C=1, gamma=1e-07;, score=0.333 total time=   0.0s\n",
      "[CV 4/5] END ..................C=1, gamma=1e-07;, score=0.375 total time=   0.0s\n",
      "[CV 5/5] END ..................C=1, gamma=1e-07;, score=0.375 total time=   0.0s\n",
      "[CV 1/5] END ..................C=1, gamma=1e-06;, score=0.333 total time=   0.0s\n",
      "[CV 2/5] END ..................C=1, gamma=1e-06;, score=0.333 total time=   0.0s\n",
      "[CV 3/5] END ..................C=1, gamma=1e-06;, score=0.333 total time=   0.0s\n",
      "[CV 4/5] END ..................C=1, gamma=1e-06;, score=0.375 total time=   0.0s\n",
      "[CV 5/5] END ..................C=1, gamma=1e-06;, score=0.375 total time=   0.0s\n",
      "[CV 1/5] END ..................C=1, gamma=1e-05;, score=0.333 total time=   0.0s\n",
      "[CV 2/5] END ..................C=1, gamma=1e-05;, score=0.333 total time=   0.0s\n",
      "[CV 3/5] END ..................C=1, gamma=1e-05;, score=0.333 total time=   0.0s\n",
      "[CV 4/5] END ..................C=1, gamma=1e-05;, score=0.375 total time=   0.0s\n",
      "[CV 5/5] END ..................C=1, gamma=1e-05;, score=0.375 total time=   0.0s\n",
      "[CV 1/5] END .................C=1, gamma=0.0001;, score=0.333 total time=   0.0s\n",
      "[CV 2/5] END .................C=1, gamma=0.0001;, score=0.333 total time=   0.0s\n",
      "[CV 3/5] END .................C=1, gamma=0.0001;, score=0.333 total time=   0.0s\n",
      "[CV 4/5] END .................C=1, gamma=0.0001;, score=0.375 total time=   0.0s\n",
      "[CV 5/5] END .................C=1, gamma=0.0001;, score=0.375 total time=   0.0s\n",
      "[CV 1/5] END ..................C=1, gamma=0.001;, score=0.333 total time=   0.0s\n",
      "[CV 2/5] END ..................C=1, gamma=0.001;, score=0.333 total time=   0.0s\n",
      "[CV 3/5] END ..................C=1, gamma=0.001;, score=0.333 total time=   0.0s\n",
      "[CV 4/5] END ..................C=1, gamma=0.001;, score=0.375 total time=   0.0s\n",
      "[CV 5/5] END ..................C=1, gamma=0.001;, score=0.375 total time=   0.0s\n",
      "[CV 1/5] END ...................C=1, gamma=0.01;, score=0.958 total time=   0.0s\n",
      "[CV 2/5] END ...................C=1, gamma=0.01;, score=0.917 total time=   0.0s\n",
      "[CV 3/5] END ...................C=1, gamma=0.01;, score=0.833 total time=   0.0s\n",
      "[CV 4/5] END ...................C=1, gamma=0.01;, score=0.958 total time=   0.0s\n",
      "[CV 5/5] END ...................C=1, gamma=0.01;, score=0.958 total time=   0.0s\n",
      "[CV 1/5] END ....................C=1, gamma=0.1;, score=1.000 total time=   0.0s\n",
      "[CV 2/5] END ....................C=1, gamma=0.1;, score=1.000 total time=   0.0s\n",
      "[CV 3/5] END ....................C=1, gamma=0.1;, score=0.917 total time=   0.0s\n",
      "[CV 4/5] END ....................C=1, gamma=0.1;, score=1.000 total time=   0.0s\n",
      "[CV 5/5] END ....................C=1, gamma=0.1;, score=0.875 total time=   0.0s\n",
      "[CV 1/5] END ......................C=1, gamma=1;, score=1.000 total time=   0.0s\n",
      "[CV 2/5] END ......................C=1, gamma=1;, score=1.000 total time=   0.0s\n",
      "[CV 3/5] END ......................C=1, gamma=1;, score=0.958 total time=   0.0s\n",
      "[CV 4/5] END ......................C=1, gamma=1;, score=1.000 total time=   0.0s\n",
      "[CV 5/5] END ......................C=1, gamma=1;, score=0.917 total time=   0.0s\n",
      "[CV 1/5] END .....................C=1, gamma=10;, score=0.875 total time=   0.0s\n",
      "[CV 2/5] END .....................C=1, gamma=10;, score=0.958 total time=   0.0s\n",
      "[CV 3/5] END .....................C=1, gamma=10;, score=0.958 total time=   0.0s\n",
      "[CV 4/5] END .....................C=1, gamma=10;, score=1.000 total time=   0.0s\n",
      "[CV 5/5] END .....................C=1, gamma=10;, score=0.917 total time=   0.0s\n",
      "[CV 1/5] END ....................C=1, gamma=100;, score=0.583 total time=   0.0s\n",
      "[CV 2/5] END ....................C=1, gamma=100;, score=0.458 total time=   0.0s\n",
      "[CV 3/5] END ....................C=1, gamma=100;, score=0.500 total time=   0.0s\n",
      "[CV 4/5] END ....................C=1, gamma=100;, score=0.667 total time=   0.0s\n",
      "[CV 5/5] END ....................C=1, gamma=100;, score=0.500 total time=   0.0s\n",
      "[CV 1/5] END .................C=10, gamma=1e-07;, score=0.333 total time=   0.0s\n",
      "[CV 2/5] END .................C=10, gamma=1e-07;, score=0.333 total time=   0.0s\n",
      "[CV 3/5] END .................C=10, gamma=1e-07;, score=0.333 total time=   0.0s\n",
      "[CV 4/5] END .................C=10, gamma=1e-07;, score=0.375 total time=   0.0s\n",
      "[CV 5/5] END .................C=10, gamma=1e-07;, score=0.375 total time=   0.0s\n",
      "[CV 1/5] END .................C=10, gamma=1e-06;, score=0.333 total time=   0.0s\n",
      "[CV 2/5] END .................C=10, gamma=1e-06;, score=0.333 total time=   0.0s\n",
      "[CV 3/5] END .................C=10, gamma=1e-06;, score=0.333 total time=   0.0s\n",
      "[CV 4/5] END .................C=10, gamma=1e-06;, score=0.375 total time=   0.0s\n",
      "[CV 5/5] END .................C=10, gamma=1e-06;, score=0.375 total time=   0.0s\n",
      "[CV 1/5] END .................C=10, gamma=1e-05;, score=0.333 total time=   0.0s\n",
      "[CV 2/5] END .................C=10, gamma=1e-05;, score=0.333 total time=   0.0s\n",
      "[CV 3/5] END .................C=10, gamma=1e-05;, score=0.333 total time=   0.0s\n",
      "[CV 4/5] END .................C=10, gamma=1e-05;, score=0.375 total time=   0.0s\n",
      "[CV 5/5] END .................C=10, gamma=1e-05;, score=0.375 total time=   0.0s\n",
      "[CV 1/5] END ................C=10, gamma=0.0001;, score=0.333 total time=   0.0s\n",
      "[CV 2/5] END ................C=10, gamma=0.0001;, score=0.333 total time=   0.0s\n",
      "[CV 3/5] END ................C=10, gamma=0.0001;, score=0.333 total time=   0.0s\n",
      "[CV 4/5] END ................C=10, gamma=0.0001;, score=0.375 total time=   0.0s\n",
      "[CV 5/5] END ................C=10, gamma=0.0001;, score=0.375 total time=   0.0s\n",
      "[CV 1/5] END .................C=10, gamma=0.001;, score=0.958 total time=   0.0s\n",
      "[CV 2/5] END .................C=10, gamma=0.001;, score=0.917 total time=   0.0s\n",
      "[CV 3/5] END .................C=10, gamma=0.001;, score=0.833 total time=   0.0s\n",
      "[CV 4/5] END .................C=10, gamma=0.001;, score=0.958 total time=   0.0s\n",
      "[CV 5/5] END .................C=10, gamma=0.001;, score=0.958 total time=   0.0s\n",
      "[CV 1/5] END ..................C=10, gamma=0.01;, score=1.000 total time=   0.0s\n",
      "[CV 2/5] END ..................C=10, gamma=0.01;, score=1.000 total time=   0.0s\n",
      "[CV 3/5] END ..................C=10, gamma=0.01;, score=0.917 total time=   0.0s\n",
      "[CV 4/5] END ..................C=10, gamma=0.01;, score=1.000 total time=   0.0s\n",
      "[CV 5/5] END ..................C=10, gamma=0.01;, score=0.875 total time=   0.0s\n",
      "[CV 1/5] END ...................C=10, gamma=0.1;, score=1.000 total time=   0.0s\n",
      "[CV 2/5] END ...................C=10, gamma=0.1;, score=1.000 total time=   0.0s\n",
      "[CV 3/5] END ...................C=10, gamma=0.1;, score=0.917 total time=   0.0s\n",
      "[CV 4/5] END ...................C=10, gamma=0.1;, score=1.000 total time=   0.0s\n",
      "[CV 5/5] END ...................C=10, gamma=0.1;, score=0.917 total time=   0.0s\n",
      "[CV 1/5] END .....................C=10, gamma=1;, score=1.000 total time=   0.0s\n",
      "[CV 2/5] END .....................C=10, gamma=1;, score=1.000 total time=   0.0s\n",
      "[CV 3/5] END .....................C=10, gamma=1;, score=0.917 total time=   0.0s\n",
      "[CV 4/5] END .....................C=10, gamma=1;, score=0.958 total time=   0.0s\n",
      "[CV 5/5] END .....................C=10, gamma=1;, score=0.875 total time=   0.0s\n",
      "[CV 1/5] END ....................C=10, gamma=10;, score=0.917 total time=   0.0s\n",
      "[CV 2/5] END ....................C=10, gamma=10;, score=0.958 total time=   0.0s\n",
      "[CV 3/5] END ....................C=10, gamma=10;, score=0.958 total time=   0.0s\n",
      "[CV 4/5] END ....................C=10, gamma=10;, score=1.000 total time=   0.0s\n",
      "[CV 5/5] END ....................C=10, gamma=10;, score=0.917 total time=   0.0s\n",
      "[CV 1/5] END ...................C=10, gamma=100;, score=0.583 total time=   0.0s\n",
      "[CV 2/5] END ...................C=10, gamma=100;, score=0.458 total time=   0.0s\n",
      "[CV 3/5] END ...................C=10, gamma=100;, score=0.500 total time=   0.0s\n",
      "[CV 4/5] END ...................C=10, gamma=100;, score=0.667 total time=   0.0s\n",
      "[CV 5/5] END ...................C=10, gamma=100;, score=0.500 total time=   0.0s\n",
      "[CV 1/5] END ................C=100, gamma=1e-07;, score=0.333 total time=   0.0s\n",
      "[CV 2/5] END ................C=100, gamma=1e-07;, score=0.333 total time=   0.0s\n",
      "[CV 3/5] END ................C=100, gamma=1e-07;, score=0.333 total time=   0.0s\n",
      "[CV 4/5] END ................C=100, gamma=1e-07;, score=0.375 total time=   0.0s\n",
      "[CV 5/5] END ................C=100, gamma=1e-07;, score=0.375 total time=   0.0s\n",
      "[CV 1/5] END ................C=100, gamma=1e-06;, score=0.333 total time=   0.0s\n",
      "[CV 2/5] END ................C=100, gamma=1e-06;, score=0.333 total time=   0.0s\n",
      "[CV 3/5] END ................C=100, gamma=1e-06;, score=0.333 total time=   0.0s\n",
      "[CV 4/5] END ................C=100, gamma=1e-06;, score=0.375 total time=   0.0s\n",
      "[CV 5/5] END ................C=100, gamma=1e-06;, score=0.375 total time=   0.0s\n",
      "[CV 1/5] END ................C=100, gamma=1e-05;, score=0.333 total time=   0.0s\n",
      "[CV 2/5] END ................C=100, gamma=1e-05;, score=0.333 total time=   0.0s\n",
      "[CV 3/5] END ................C=100, gamma=1e-05;, score=0.333 total time=   0.0s\n",
      "[CV 4/5] END ................C=100, gamma=1e-05;, score=0.375 total time=   0.0s\n",
      "[CV 5/5] END ................C=100, gamma=1e-05;, score=0.375 total time=   0.0s\n",
      "[CV 1/5] END ...............C=100, gamma=0.0001;, score=0.958 total time=   0.0s\n",
      "[CV 2/5] END ...............C=100, gamma=0.0001;, score=0.917 total time=   0.0s\n",
      "[CV 3/5] END ...............C=100, gamma=0.0001;, score=0.833 total time=   0.0s\n",
      "[CV 4/5] END ...............C=100, gamma=0.0001;, score=0.958 total time=   0.0s\n",
      "[CV 5/5] END ...............C=100, gamma=0.0001;, score=0.958 total time=   0.0s\n",
      "[CV 1/5] END ................C=100, gamma=0.001;, score=1.000 total time=   0.0s\n",
      "[CV 2/5] END ................C=100, gamma=0.001;, score=1.000 total time=   0.0s\n",
      "[CV 3/5] END ................C=100, gamma=0.001;, score=0.917 total time=   0.0s\n",
      "[CV 4/5] END ................C=100, gamma=0.001;, score=1.000 total time=   0.0s\n",
      "[CV 5/5] END ................C=100, gamma=0.001;, score=0.875 total time=   0.0s\n",
      "[CV 1/5] END .................C=100, gamma=0.01;, score=1.000 total time=   0.0s\n",
      "[CV 2/5] END .................C=100, gamma=0.01;, score=1.000 total time=   0.0s\n",
      "[CV 3/5] END .................C=100, gamma=0.01;, score=0.917 total time=   0.0s\n",
      "[CV 4/5] END .................C=100, gamma=0.01;, score=1.000 total time=   0.0s\n",
      "[CV 5/5] END .................C=100, gamma=0.01;, score=0.875 total time=   0.0s\n",
      "[CV 1/5] END ..................C=100, gamma=0.1;, score=1.000 total time=   0.0s\n",
      "[CV 2/5] END ..................C=100, gamma=0.1;, score=1.000 total time=   0.0s\n",
      "[CV 3/5] END ..................C=100, gamma=0.1;, score=0.917 total time=   0.0s\n",
      "[CV 4/5] END ..................C=100, gamma=0.1;, score=0.958 total time=   0.0s\n",
      "[CV 5/5] END ..................C=100, gamma=0.1;, score=0.917 total time=   0.0s\n",
      "[CV 1/5] END ....................C=100, gamma=1;, score=1.000 total time=   0.0s\n",
      "[CV 2/5] END ....................C=100, gamma=1;, score=1.000 total time=   0.0s\n",
      "[CV 3/5] END ....................C=100, gamma=1;, score=0.917 total time=   0.0s\n",
      "[CV 4/5] END ....................C=100, gamma=1;, score=0.917 total time=   0.0s\n",
      "[CV 5/5] END ....................C=100, gamma=1;, score=0.833 total time=   0.0s\n",
      "[CV 1/5] END ...................C=100, gamma=10;, score=0.917 total time=   0.0s\n",
      "[CV 2/5] END ...................C=100, gamma=10;, score=0.958 total time=   0.0s\n",
      "[CV 3/5] END ...................C=100, gamma=10;, score=0.958 total time=   0.0s\n",
      "[CV 4/5] END ...................C=100, gamma=10;, score=1.000 total time=   0.0s\n",
      "[CV 5/5] END ...................C=100, gamma=10;, score=0.917 total time=   0.0s\n",
      "[CV 1/5] END ..................C=100, gamma=100;, score=0.583 total time=   0.0s\n",
      "[CV 2/5] END ..................C=100, gamma=100;, score=0.458 total time=   0.0s\n",
      "[CV 3/5] END ..................C=100, gamma=100;, score=0.500 total time=   0.0s\n",
      "[CV 4/5] END ..................C=100, gamma=100;, score=0.667 total time=   0.0s\n",
      "[CV 5/5] END ..................C=100, gamma=100;, score=0.500 total time=   0.0s\n",
      "[CV 1/5] END ...............C=1000, gamma=1e-07;, score=0.333 total time=   0.0s\n",
      "[CV 2/5] END ...............C=1000, gamma=1e-07;, score=0.333 total time=   0.0s\n",
      "[CV 3/5] END ...............C=1000, gamma=1e-07;, score=0.333 total time=   0.0s\n",
      "[CV 4/5] END ...............C=1000, gamma=1e-07;, score=0.375 total time=   0.0s\n",
      "[CV 5/5] END ...............C=1000, gamma=1e-07;, score=0.375 total time=   0.0s\n",
      "[CV 1/5] END ...............C=1000, gamma=1e-06;, score=0.333 total time=   0.0s\n",
      "[CV 2/5] END ...............C=1000, gamma=1e-06;, score=0.333 total time=   0.0s\n",
      "[CV 3/5] END ...............C=1000, gamma=1e-06;, score=0.333 total time=   0.0s\n",
      "[CV 4/5] END ...............C=1000, gamma=1e-06;, score=0.375 total time=   0.0s\n",
      "[CV 5/5] END ...............C=1000, gamma=1e-06;, score=0.375 total time=   0.0s\n",
      "[CV 1/5] END ...............C=1000, gamma=1e-05;, score=0.958 total time=   0.0s\n",
      "[CV 2/5] END ...............C=1000, gamma=1e-05;, score=0.917 total time=   0.0s\n",
      "[CV 3/5] END ...............C=1000, gamma=1e-05;, score=0.833 total time=   0.0s\n",
      "[CV 4/5] END ...............C=1000, gamma=1e-05;, score=0.958 total time=   0.0s\n",
      "[CV 5/5] END ...............C=1000, gamma=1e-05;, score=0.958 total time=   0.0s\n",
      "[CV 1/5] END ..............C=1000, gamma=0.0001;, score=1.000 total time=   0.0s\n",
      "[CV 2/5] END ..............C=1000, gamma=0.0001;, score=1.000 total time=   0.0s\n",
      "[CV 3/5] END ..............C=1000, gamma=0.0001;, score=0.917 total time=   0.0s\n",
      "[CV 4/5] END ..............C=1000, gamma=0.0001;, score=1.000 total time=   0.0s\n",
      "[CV 5/5] END ..............C=1000, gamma=0.0001;, score=0.875 total time=   0.0s\n",
      "[CV 1/5] END ...............C=1000, gamma=0.001;, score=1.000 total time=   0.0s\n",
      "[CV 2/5] END ...............C=1000, gamma=0.001;, score=1.000 total time=   0.0s\n",
      "[CV 3/5] END ...............C=1000, gamma=0.001;, score=0.917 total time=   0.0s\n",
      "[CV 4/5] END ...............C=1000, gamma=0.001;, score=1.000 total time=   0.0s\n",
      "[CV 5/5] END ...............C=1000, gamma=0.001;, score=0.875 total time=   0.0s\n",
      "[CV 1/5] END ................C=1000, gamma=0.01;, score=1.000 total time=   0.0s\n",
      "[CV 2/5] END ................C=1000, gamma=0.01;, score=1.000 total time=   0.0s\n",
      "[CV 3/5] END ................C=1000, gamma=0.01;, score=0.917 total time=   0.0s\n",
      "[CV 4/5] END ................C=1000, gamma=0.01;, score=0.958 total time=   0.0s\n",
      "[CV 5/5] END ................C=1000, gamma=0.01;, score=0.917 total time=   0.0s\n",
      "[CV 1/5] END .................C=1000, gamma=0.1;, score=1.000 total time=   0.0s\n",
      "[CV 2/5] END .................C=1000, gamma=0.1;, score=0.958 total time=   0.0s\n",
      "[CV 3/5] END .................C=1000, gamma=0.1;, score=0.917 total time=   0.0s\n",
      "[CV 4/5] END .................C=1000, gamma=0.1;, score=0.958 total time=   0.0s\n",
      "[CV 5/5] END .................C=1000, gamma=0.1;, score=0.917 total time=   0.0s\n",
      "[CV 1/5] END ...................C=1000, gamma=1;, score=1.000 total time=   0.0s\n",
      "[CV 2/5] END ...................C=1000, gamma=1;, score=1.000 total time=   0.0s\n",
      "[CV 3/5] END ...................C=1000, gamma=1;, score=0.917 total time=   0.0s\n",
      "[CV 4/5] END ...................C=1000, gamma=1;, score=0.917 total time=   0.0s\n",
      "[CV 5/5] END ...................C=1000, gamma=1;, score=0.833 total time=   0.0s\n",
      "[CV 1/5] END ..................C=1000, gamma=10;, score=0.917 total time=   0.0s\n",
      "[CV 2/5] END ..................C=1000, gamma=10;, score=0.958 total time=   0.0s\n",
      "[CV 3/5] END ..................C=1000, gamma=10;, score=0.958 total time=   0.0s\n",
      "[CV 4/5] END ..................C=1000, gamma=10;, score=1.000 total time=   0.0s\n",
      "[CV 5/5] END ..................C=1000, gamma=10;, score=0.917 total time=   0.0s\n",
      "[CV 1/5] END .................C=1000, gamma=100;, score=0.583 total time=   0.0s\n",
      "[CV 2/5] END .................C=1000, gamma=100;, score=0.458 total time=   0.0s\n",
      "[CV 3/5] END .................C=1000, gamma=100;, score=0.500 total time=   0.0s\n",
      "[CV 4/5] END .................C=1000, gamma=100;, score=0.667 total time=   0.0s\n",
      "[CV 5/5] END .................C=1000, gamma=100;, score=0.500 total time=   0.0s\n",
      "[CV 1/5] END ..............C=10000, gamma=1e-07;, score=0.333 total time=   0.0s\n",
      "[CV 2/5] END ..............C=10000, gamma=1e-07;, score=0.333 total time=   0.0s\n",
      "[CV 3/5] END ..............C=10000, gamma=1e-07;, score=0.333 total time=   0.0s\n",
      "[CV 4/5] END ..............C=10000, gamma=1e-07;, score=0.375 total time=   0.0s\n",
      "[CV 5/5] END ..............C=10000, gamma=1e-07;, score=0.375 total time=   0.0s\n",
      "[CV 1/5] END ..............C=10000, gamma=1e-06;, score=0.958 total time=   0.0s\n",
      "[CV 2/5] END ..............C=10000, gamma=1e-06;, score=0.917 total time=   0.0s\n",
      "[CV 3/5] END ..............C=10000, gamma=1e-06;, score=0.833 total time=   0.0s\n",
      "[CV 4/5] END ..............C=10000, gamma=1e-06;, score=0.958 total time=   0.0s\n",
      "[CV 5/5] END ..............C=10000, gamma=1e-06;, score=0.958 total time=   0.0s\n",
      "[CV 1/5] END ..............C=10000, gamma=1e-05;, score=1.000 total time=   0.0s\n",
      "[CV 2/5] END ..............C=10000, gamma=1e-05;, score=1.000 total time=   0.0s\n",
      "[CV 3/5] END ..............C=10000, gamma=1e-05;, score=0.917 total time=   0.0s\n",
      "[CV 4/5] END ..............C=10000, gamma=1e-05;, score=1.000 total time=   0.0s\n",
      "[CV 5/5] END ..............C=10000, gamma=1e-05;, score=0.875 total time=   0.0s\n",
      "[CV 1/5] END .............C=10000, gamma=0.0001;, score=1.000 total time=   0.0s\n",
      "[CV 2/5] END .............C=10000, gamma=0.0001;, score=1.000 total time=   0.0s\n",
      "[CV 3/5] END .............C=10000, gamma=0.0001;, score=0.917 total time=   0.0s\n",
      "[CV 4/5] END .............C=10000, gamma=0.0001;, score=1.000 total time=   0.0s\n",
      "[CV 5/5] END .............C=10000, gamma=0.0001;, score=0.875 total time=   0.0s\n",
      "[CV 1/5] END ..............C=10000, gamma=0.001;, score=1.000 total time=   0.0s\n",
      "[CV 2/5] END ..............C=10000, gamma=0.001;, score=1.000 total time=   0.0s\n",
      "[CV 3/5] END ..............C=10000, gamma=0.001;, score=0.917 total time=   0.0s\n",
      "[CV 4/5] END ..............C=10000, gamma=0.001;, score=0.958 total time=   0.0s\n",
      "[CV 5/5] END ..............C=10000, gamma=0.001;, score=0.917 total time=   0.0s\n",
      "[CV 1/5] END ...............C=10000, gamma=0.01;, score=1.000 total time=   0.0s\n",
      "[CV 2/5] END ...............C=10000, gamma=0.01;, score=1.000 total time=   0.0s\n",
      "[CV 3/5] END ...............C=10000, gamma=0.01;, score=0.917 total time=   0.0s\n",
      "[CV 4/5] END ...............C=10000, gamma=0.01;, score=1.000 total time=   0.0s\n",
      "[CV 5/5] END ...............C=10000, gamma=0.01;, score=0.917 total time=   0.0s\n",
      "[CV 1/5] END ................C=10000, gamma=0.1;, score=1.000 total time=   0.0s\n",
      "[CV 2/5] END ................C=10000, gamma=0.1;, score=0.958 total time=   0.0s\n",
      "[CV 3/5] END ................C=10000, gamma=0.1;, score=0.875 total time=   0.0s\n",
      "[CV 4/5] END ................C=10000, gamma=0.1;, score=0.917 total time=   0.0s\n",
      "[CV 5/5] END ................C=10000, gamma=0.1;, score=0.917 total time=   0.0s\n",
      "[CV 1/5] END ..................C=10000, gamma=1;, score=1.000 total time=   0.0s\n",
      "[CV 2/5] END ..................C=10000, gamma=1;, score=1.000 total time=   0.0s\n",
      "[CV 3/5] END ..................C=10000, gamma=1;, score=0.917 total time=   0.0s\n",
      "[CV 4/5] END ..................C=10000, gamma=1;, score=0.917 total time=   0.0s\n",
      "[CV 5/5] END ..................C=10000, gamma=1;, score=0.833 total time=   0.0s\n",
      "[CV 1/5] END .................C=10000, gamma=10;, score=0.917 total time=   0.0s\n",
      "[CV 2/5] END .................C=10000, gamma=10;, score=0.958 total time=   0.0s\n",
      "[CV 3/5] END .................C=10000, gamma=10;, score=0.958 total time=   0.0s\n",
      "[CV 4/5] END .................C=10000, gamma=10;, score=1.000 total time=   0.0s\n",
      "[CV 5/5] END .................C=10000, gamma=10;, score=0.917 total time=   0.0s\n",
      "[CV 1/5] END ................C=10000, gamma=100;, score=0.583 total time=   0.0s\n",
      "[CV 2/5] END ................C=10000, gamma=100;, score=0.458 total time=   0.0s\n",
      "[CV 3/5] END ................C=10000, gamma=100;, score=0.500 total time=   0.0s\n",
      "[CV 4/5] END ................C=10000, gamma=100;, score=0.667 total time=   0.0s\n",
      "[CV 5/5] END ................C=10000, gamma=100;, score=0.500 total time=   0.0s\n"
     ]
    },
    {
     "data": {
      "text/plain": [
       "GridSearchCV(estimator=SVC(),\n",
       "             param_grid={'C': [1e-05, 0.0001, 0.001, 0.01, 0.1, 1, 10, 100,\n",
       "                               1000, 10000],\n",
       "                         'gamma': [1e-07, 1e-06, 1e-05, 0.0001, 0.001, 0.01,\n",
       "                                   0.1, 1, 10, 100]},\n",
       "             verbose=3)"
      ]
     },
     "execution_count": 124,
     "metadata": {},
     "output_type": "execute_result"
    }
   ],
   "source": [
    "grid.fit(X_train, y_train)"
   ]
  },
  {
   "cell_type": "code",
   "execution_count": 125,
   "id": "520f7e34",
   "metadata": {},
   "outputs": [
    {
     "data": {
      "text/plain": [
       "{'C': 1, 'gamma': 1}"
      ]
     },
     "execution_count": 125,
     "metadata": {},
     "output_type": "execute_result"
    }
   ],
   "source": [
    "grid.best_params_"
   ]
  },
  {
   "cell_type": "markdown",
   "id": "d47a158c",
   "metadata": {},
   "source": [
    "The Grid Search gave the default C and gamma values as best parameters, so the we will get the same confusion matrix and classification report after grid."
   ]
  },
  {
   "cell_type": "code",
   "execution_count": 126,
   "id": "93147560",
   "metadata": {},
   "outputs": [
    {
     "data": {
      "text/plain": [
       "SVC(C=1, gamma=1)"
      ]
     },
     "execution_count": 126,
     "metadata": {},
     "output_type": "execute_result"
    }
   ],
   "source": [
    "grid.best_estimator_"
   ]
  },
  {
   "cell_type": "code",
   "execution_count": 127,
   "id": "bbea8d5e",
   "metadata": {},
   "outputs": [],
   "source": [
    "pred = grid.predict(X_test)"
   ]
  },
  {
   "cell_type": "code",
   "execution_count": 128,
   "id": "2146b0b2",
   "metadata": {},
   "outputs": [
    {
     "name": "stdout",
     "output_type": "stream",
     "text": [
      "[[12  0  0]\n",
      " [ 0  8  0]\n",
      " [ 0  1  9]]\n",
      "\n",
      "\n",
      "              precision    recall  f1-score   support\n",
      "\n",
      "      setosa       1.00      1.00      1.00        12\n",
      "  versicolor       0.89      1.00      0.94         8\n",
      "   virginica       1.00      0.90      0.95        10\n",
      "\n",
      "    accuracy                           0.97        30\n",
      "   macro avg       0.96      0.97      0.96        30\n",
      "weighted avg       0.97      0.97      0.97        30\n",
      "\n"
     ]
    }
   ],
   "source": [
    "print(confusion_matrix(y_test, pred))\n",
    "print('\\n')\n",
    "print(classification_report(y_test, pred))"
   ]
  },
  {
   "cell_type": "code",
   "execution_count": null,
   "id": "605528e6",
   "metadata": {},
   "outputs": [],
   "source": []
  }
 ],
 "metadata": {
  "kernelspec": {
   "display_name": "Python 3",
   "language": "python",
   "name": "python3"
  },
  "language_info": {
   "codemirror_mode": {
    "name": "ipython",
    "version": 3
   },
   "file_extension": ".py",
   "mimetype": "text/x-python",
   "name": "python",
   "nbconvert_exporter": "python",
   "pygments_lexer": "ipython3",
   "version": "3.8.8"
  }
 },
 "nbformat": 4,
 "nbformat_minor": 5
}
