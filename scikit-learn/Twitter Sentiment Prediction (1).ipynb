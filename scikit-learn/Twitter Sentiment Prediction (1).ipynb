{
 "cells": [
  {
   "cell_type": "code",
   "execution_count": 15,
   "id": "532bf19c",
   "metadata": {},
   "outputs": [],
   "source": [
    "import nltk\n",
    "\n",
    "import pandas as pd\n",
    "import matplotlib.pyplot as plt \n",
    "import seaborn as sns\n",
    "\n",
    "%matplotlib inline"
   ]
  },
  {
   "cell_type": "code",
   "execution_count": 210,
   "id": "769a6b36",
   "metadata": {},
   "outputs": [],
   "source": [
    "#nltk.download_shell()"
   ]
  },
  {
   "cell_type": "markdown",
   "id": "69d5a200",
   "metadata": {},
   "source": [
    "Import the coronavirus tweets dataset and perform exploratory data analysis. The dataset is from https://www.kaggle.com/datasets/datatattle/covid-19-nlp-text-classification."
   ]
  },
  {
   "cell_type": "code",
   "execution_count": 4,
   "id": "6165a525",
   "metadata": {},
   "outputs": [],
   "source": [
    "df = pd.read_csv('C:/Users/Lenovo/Desktop/datasets/corona_tweets.csv')"
   ]
  },
  {
   "cell_type": "code",
   "execution_count": 5,
   "id": "ba5849aa",
   "metadata": {},
   "outputs": [
    {
     "data": {
      "text/html": [
       "<div>\n",
       "<style scoped>\n",
       "    .dataframe tbody tr th:only-of-type {\n",
       "        vertical-align: middle;\n",
       "    }\n",
       "\n",
       "    .dataframe tbody tr th {\n",
       "        vertical-align: top;\n",
       "    }\n",
       "\n",
       "    .dataframe thead th {\n",
       "        text-align: right;\n",
       "    }\n",
       "</style>\n",
       "<table border=\"1\" class=\"dataframe\">\n",
       "  <thead>\n",
       "    <tr style=\"text-align: right;\">\n",
       "      <th></th>\n",
       "      <th>UserName</th>\n",
       "      <th>ScreenName</th>\n",
       "      <th>Location</th>\n",
       "      <th>TweetAt</th>\n",
       "      <th>OriginalTweet</th>\n",
       "      <th>Sentiment</th>\n",
       "    </tr>\n",
       "  </thead>\n",
       "  <tbody>\n",
       "    <tr>\n",
       "      <th>0</th>\n",
       "      <td>1</td>\n",
       "      <td>44953</td>\n",
       "      <td>NYC</td>\n",
       "      <td>02-03-2020</td>\n",
       "      <td>TRENDING: New Yorkers encounter empty supermar...</td>\n",
       "      <td>Extremely Negative</td>\n",
       "    </tr>\n",
       "    <tr>\n",
       "      <th>1</th>\n",
       "      <td>2</td>\n",
       "      <td>44954</td>\n",
       "      <td>Seattle, WA</td>\n",
       "      <td>02-03-2020</td>\n",
       "      <td>When I couldn't find hand sanitizer at Fred Me...</td>\n",
       "      <td>Positive</td>\n",
       "    </tr>\n",
       "    <tr>\n",
       "      <th>2</th>\n",
       "      <td>3</td>\n",
       "      <td>44955</td>\n",
       "      <td>NaN</td>\n",
       "      <td>02-03-2020</td>\n",
       "      <td>Find out how you can protect yourself and love...</td>\n",
       "      <td>Extremely Positive</td>\n",
       "    </tr>\n",
       "    <tr>\n",
       "      <th>3</th>\n",
       "      <td>4</td>\n",
       "      <td>44956</td>\n",
       "      <td>Chicagoland</td>\n",
       "      <td>02-03-2020</td>\n",
       "      <td>#Panic buying hits #NewYork City as anxious sh...</td>\n",
       "      <td>Negative</td>\n",
       "    </tr>\n",
       "    <tr>\n",
       "      <th>4</th>\n",
       "      <td>5</td>\n",
       "      <td>44957</td>\n",
       "      <td>Melbourne, Victoria</td>\n",
       "      <td>03-03-2020</td>\n",
       "      <td>#toiletpaper #dunnypaper #coronavirus #coronav...</td>\n",
       "      <td>Neutral</td>\n",
       "    </tr>\n",
       "  </tbody>\n",
       "</table>\n",
       "</div>"
      ],
      "text/plain": [
       "   UserName  ScreenName             Location     TweetAt  \\\n",
       "0         1       44953                  NYC  02-03-2020   \n",
       "1         2       44954          Seattle, WA  02-03-2020   \n",
       "2         3       44955                  NaN  02-03-2020   \n",
       "3         4       44956          Chicagoland  02-03-2020   \n",
       "4         5       44957  Melbourne, Victoria  03-03-2020   \n",
       "\n",
       "                                       OriginalTweet           Sentiment  \n",
       "0  TRENDING: New Yorkers encounter empty supermar...  Extremely Negative  \n",
       "1  When I couldn't find hand sanitizer at Fred Me...            Positive  \n",
       "2  Find out how you can protect yourself and love...  Extremely Positive  \n",
       "3  #Panic buying hits #NewYork City as anxious sh...            Negative  \n",
       "4  #toiletpaper #dunnypaper #coronavirus #coronav...             Neutral  "
      ]
     },
     "execution_count": 5,
     "metadata": {},
     "output_type": "execute_result"
    }
   ],
   "source": [
    "df.head()"
   ]
  },
  {
   "cell_type": "markdown",
   "id": "00b1f009",
   "metadata": {},
   "source": [
    "How many tweets are there in each sentiment class?"
   ]
  },
  {
   "cell_type": "code",
   "execution_count": 6,
   "id": "7485f2d6",
   "metadata": {},
   "outputs": [
    {
     "data": {
      "text/plain": [
       "Sentiment\n",
       "Extremely Negative     592\n",
       "Extremely Positive     599\n",
       "Negative              1041\n",
       "Neutral                619\n",
       "Positive               947\n",
       "dtype: int64"
      ]
     },
     "execution_count": 6,
     "metadata": {},
     "output_type": "execute_result"
    }
   ],
   "source": [
    "df.groupby('Sentiment').size()"
   ]
  },
  {
   "cell_type": "markdown",
   "id": "4b5a8d7b",
   "metadata": {},
   "source": [
    "How many different days were the tweets posted on?"
   ]
  },
  {
   "cell_type": "code",
   "execution_count": 7,
   "id": "72517f9c",
   "metadata": {},
   "outputs": [
    {
     "data": {
      "text/plain": [
       "15"
      ]
     },
     "execution_count": 7,
     "metadata": {},
     "output_type": "execute_result"
    }
   ],
   "source": [
    "df.TweetAt.nunique()"
   ]
  },
  {
   "cell_type": "markdown",
   "id": "d8343a5f",
   "metadata": {},
   "source": [
    "How manys tweets are there in each day?"
   ]
  },
  {
   "cell_type": "code",
   "execution_count": 18,
   "id": "690738c7",
   "metadata": {},
   "outputs": [
    {
     "data": {
      "text/plain": [
       "<AxesSubplot:xlabel='TweetAt'>"
      ]
     },
     "execution_count": 18,
     "metadata": {},
     "output_type": "execute_result"
    },
    {
     "data": {
      "image/png": "[encoded data removed]",
      "text/plain": [
       "<Figure size 864x432 with 1 Axes>"
      ]
     },
     "metadata": {
      "needs_background": "light"
     },
     "output_type": "display_data"
    }
   ],
   "source": [
    "df.groupby('TweetAt').size().plot(figsize=(12,6))"
   ]
  },
  {
   "cell_type": "markdown",
   "id": "a3475a54",
   "metadata": {},
   "source": [
    "The peak point of the graph is 2 days after the WHO declared the COVID outbreak as pandemic."
   ]
  },
  {
   "cell_type": "code",
   "execution_count": 19,
   "id": "7bbd0008",
   "metadata": {},
   "outputs": [
    {
     "data": {
      "text/plain": [
       "['I', 'feel', 'bored']"
      ]
     },
     "execution_count": 19,
     "metadata": {},
     "output_type": "execute_result"
    }
   ],
   "source": [
    "s = 'I feel bored'\n",
    "nltk.word_tokenize(s)"
   ]
  },
  {
   "cell_type": "code",
   "execution_count": 22,
   "id": "914ce33c",
   "metadata": {},
   "outputs": [
    {
     "data": {
      "text/plain": [
       "228"
      ]
     },
     "execution_count": 22,
     "metadata": {},
     "output_type": "execute_result"
    }
   ],
   "source": [
    "len(df.iloc[0]['OriginalTweet'])"
   ]
  },
  {
   "cell_type": "markdown",
   "id": "2e04d5e4",
   "metadata": {},
   "source": [
    "Add a new column showing the length of characters per tweet and display how the lengths are distributed all over the dataset. "
   ]
  },
  {
   "cell_type": "code",
   "execution_count": 36,
   "id": "03656267",
   "metadata": {},
   "outputs": [
    {
     "data": {
      "image/png": "[encoded data removed]",
      "text/plain": [
       "<Figure size 864x360 with 1 Axes>"
      ]
     },
     "metadata": {
      "needs_background": "light"
     },
     "output_type": "display_data"
    }
   ],
   "source": [
    "df['Length'] =  df['OriginalTweet'].apply(len)\n",
    "df.hist(column='Length', bins=50, figsize=(12,5));"
   ]
  },
  {
   "cell_type": "markdown",
   "id": "bcd3239a",
   "metadata": {},
   "source": [
    "Now show how the number of characters per sentiment class are distributed."
   ]
  },
  {
   "cell_type": "code",
   "execution_count": 32,
   "id": "bf038ec9",
   "metadata": {},
   "outputs": [
    {
     "data": {
      "image/png": "[encoded data removed]",
      "text/plain": [
       "<Figure size 864x432 with 6 Axes>"
      ]
     },
     "metadata": {
      "needs_background": "light"
     },
     "output_type": "display_data"
    }
   ],
   "source": [
    "df['Length'] =  df['OriginalTweet'].apply(len)\n",
    "df.hist(column='Length', bins=50, by='Sentiment', figsize=(12,6));"
   ]
  },
  {
   "cell_type": "markdown",
   "id": "5f9cfa0b",
   "metadata": {},
   "source": [
    "Each graphs demonstrates very similar trends except for neutral tweets. Neutral tweets generally contain 50 to 200 characters whereas tweets in other classes show a steady increase in numbers, and have two distinct peaks between 250 and 270. <br> <br>\n",
    "Show one of the tweets having the largest length."
   ]
  },
  {
   "cell_type": "code",
   "execution_count": 39,
   "id": "cbf5aa60",
   "metadata": {},
   "outputs": [
    {
     "data": {
      "text/html": [
       "<div>\n",
       "<style scoped>\n",
       "    .dataframe tbody tr th:only-of-type {\n",
       "        vertical-align: middle;\n",
       "    }\n",
       "\n",
       "    .dataframe tbody tr th {\n",
       "        vertical-align: top;\n",
       "    }\n",
       "\n",
       "    .dataframe thead th {\n",
       "        text-align: right;\n",
       "    }\n",
       "</style>\n",
       "<table border=\"1\" class=\"dataframe\">\n",
       "  <thead>\n",
       "    <tr style=\"text-align: right;\">\n",
       "      <th></th>\n",
       "      <th>UserName</th>\n",
       "      <th>ScreenName</th>\n",
       "      <th>Location</th>\n",
       "      <th>TweetAt</th>\n",
       "      <th>OriginalTweet</th>\n",
       "      <th>Sentiment</th>\n",
       "      <th>Length</th>\n",
       "    </tr>\n",
       "  </thead>\n",
       "  <tbody>\n",
       "    <tr>\n",
       "      <th>2400</th>\n",
       "      <td>2401</td>\n",
       "      <td>47353</td>\n",
       "      <td>Alberta, Canada</td>\n",
       "      <td>14-03-2020</td>\n",
       "      <td>In a Calgary grocery store lineup, I said to m...</td>\n",
       "      <td>Extremely Positive</td>\n",
       "      <td>342</td>\n",
       "    </tr>\n",
       "    <tr>\n",
       "      <th>2576</th>\n",
       "      <td>2577</td>\n",
       "      <td>47529</td>\n",
       "      <td>North East, England</td>\n",
       "      <td>14-03-2020</td>\n",
       "      <td>Heres a list of all @WEFoodbank Drop-Off poin...</td>\n",
       "      <td>Extremely Positive</td>\n",
       "      <td>342</td>\n",
       "    </tr>\n",
       "  </tbody>\n",
       "</table>\n",
       "</div>"
      ],
      "text/plain": [
       "      UserName  ScreenName             Location     TweetAt  \\\n",
       "2400      2401       47353      Alberta, Canada  14-03-2020   \n",
       "2576      2577       47529  North East, England  14-03-2020   \n",
       "\n",
       "                                          OriginalTweet           Sentiment  \\\n",
       "2400  In a Calgary grocery store lineup, I said to m...  Extremely Positive   \n",
       "2576  Heres a list of all @WEFoodbank Drop-Off poin...  Extremely Positive   \n",
       "\n",
       "      Length  \n",
       "2400     342  \n",
       "2576     342  "
      ]
     },
     "execution_count": 39,
     "metadata": {},
     "output_type": "execute_result"
    }
   ],
   "source": [
    "df[df['Length'] == max(df['Length'])]"
   ]
  },
  {
   "cell_type": "code",
   "execution_count": 45,
   "id": "3118fd5e",
   "metadata": {},
   "outputs": [
    {
     "data": {
      "text/plain": [
       "'In a Calgary grocery store lineup, I said to my wife, \"this #coronavirus thing feels like Christmas to me\".\\r\\r\\n\\r\\r\\nWhy? She asked.?\\r\\r\\n\\r\\r\\n\"I know it\\'s not joyous\" I said \"but it seems everybody has stepped off their rat race treadmills &amp; are open to being human\".\\r\\r\\n\\r\\r\\nI expect great revival.? https://t.co/Qgtep7nLQa https://t.co/eWCXfHjuzV'"
      ]
     },
     "execution_count": 45,
     "metadata": {},
     "output_type": "execute_result"
    }
   ],
   "source": [
    "df[df['Length'] == max(df['Length'])].iloc[0].OriginalTweet"
   ]
  },
  {
   "cell_type": "markdown",
   "id": "87e1f370",
   "metadata": {},
   "source": [
    "# NLP"
   ]
  },
  {
   "cell_type": "markdown",
   "id": "88422dfe",
   "metadata": {},
   "source": [
    "Remove the punctuations and stopwords from the tweets and return the remaining words as a list."
   ]
  },
  {
   "cell_type": "code",
   "execution_count": 54,
   "id": "5e3b8871",
   "metadata": {},
   "outputs": [],
   "source": [
    "from nltk.corpus import stopwords\n",
    "stopwords = stopwords.words('english')"
   ]
  },
  {
   "cell_type": "code",
   "execution_count": 48,
   "id": "be974bf2",
   "metadata": {},
   "outputs": [
    {
     "data": {
      "text/plain": [
       "'!\"#$%&\\'()*+,-./:;<=>?@[\\\\]^_`{|}~'"
      ]
     },
     "execution_count": 48,
     "metadata": {},
     "output_type": "execute_result"
    }
   ],
   "source": [
    "import string \n",
    "\n",
    "puncs = string.punctuation\n",
    "puncs"
   ]
  },
  {
   "cell_type": "code",
   "execution_count": 64,
   "id": "e968789d",
   "metadata": {},
   "outputs": [],
   "source": [
    "def clean(tweet):\n",
    "    tweet_no_punc = [item for item in tweet if not item in puncs]\n",
    "    tweet = ''.join(tweet_no_punc)\n",
    "    \n",
    "    return [item for item in tweet.split() if item.lower() not in stopwords]"
   ]
  },
  {
   "cell_type": "code",
   "execution_count": 65,
   "id": "bbccb1b2",
   "metadata": {},
   "outputs": [
    {
     "data": {
      "text/html": [
       "<div>\n",
       "<style scoped>\n",
       "    .dataframe tbody tr th:only-of-type {\n",
       "        vertical-align: middle;\n",
       "    }\n",
       "\n",
       "    .dataframe tbody tr th {\n",
       "        vertical-align: top;\n",
       "    }\n",
       "\n",
       "    .dataframe thead th {\n",
       "        text-align: right;\n",
       "    }\n",
       "</style>\n",
       "<table border=\"1\" class=\"dataframe\">\n",
       "  <thead>\n",
       "    <tr style=\"text-align: right;\">\n",
       "      <th></th>\n",
       "      <th>UserName</th>\n",
       "      <th>ScreenName</th>\n",
       "      <th>Location</th>\n",
       "      <th>TweetAt</th>\n",
       "      <th>OriginalTweet</th>\n",
       "      <th>Sentiment</th>\n",
       "      <th>Length</th>\n",
       "      <th>CleanTweet</th>\n",
       "    </tr>\n",
       "  </thead>\n",
       "  <tbody>\n",
       "    <tr>\n",
       "      <th>3598</th>\n",
       "      <td>3599</td>\n",
       "      <td>48551</td>\n",
       "      <td>NaN</td>\n",
       "      <td>16-03-2020</td>\n",
       "      <td>https://t.co/zuV4t1aKDZ is located in Plano, T...</td>\n",
       "      <td>Negative</td>\n",
       "      <td>284</td>\n",
       "      <td>[httpstcozuV4t1aKDZ, located, Plano, TX, Oprah...</td>\n",
       "    </tr>\n",
       "    <tr>\n",
       "      <th>2528</th>\n",
       "      <td>2529</td>\n",
       "      <td>47481</td>\n",
       "      <td>WNY</td>\n",
       "      <td>14-03-2020</td>\n",
       "      <td>Just stood behind someone buying $300 worth of...</td>\n",
       "      <td>Positive</td>\n",
       "      <td>113</td>\n",
       "      <td>[stood, behind, someone, buying, 300, worth, m...</td>\n",
       "    </tr>\n",
       "    <tr>\n",
       "      <th>1630</th>\n",
       "      <td>1631</td>\n",
       "      <td>46583</td>\n",
       "      <td>NaN</td>\n",
       "      <td>13-03-2020</td>\n",
       "      <td>I have never seen anything like this #coronavi...</td>\n",
       "      <td>Negative</td>\n",
       "      <td>276</td>\n",
       "      <td>[never, seen, anything, like, coronavirusThe, ...</td>\n",
       "    </tr>\n",
       "  </tbody>\n",
       "</table>\n",
       "</div>"
      ],
      "text/plain": [
       "      UserName  ScreenName Location     TweetAt  \\\n",
       "3598      3599       48551      NaN  16-03-2020   \n",
       "2528      2529       47481      WNY  14-03-2020   \n",
       "1630      1631       46583      NaN  13-03-2020   \n",
       "\n",
       "                                          OriginalTweet Sentiment  Length  \\\n",
       "3598  https://t.co/zuV4t1aKDZ is located in Plano, T...  Negative     284   \n",
       "2528  Just stood behind someone buying $300 worth of...  Positive     113   \n",
       "1630  I have never seen anything like this #coronavi...  Negative     276   \n",
       "\n",
       "                                             CleanTweet  \n",
       "3598  [httpstcozuV4t1aKDZ, located, Plano, TX, Oprah...  \n",
       "2528  [stood, behind, someone, buying, 300, worth, m...  \n",
       "1630  [never, seen, anything, like, coronavirusThe, ...  "
      ]
     },
     "execution_count": 65,
     "metadata": {},
     "output_type": "execute_result"
    }
   ],
   "source": [
    "df['CleanTweet'] = df['OriginalTweet'].apply(clean)\n",
    "df.sample(3)"
   ]
  },
  {
   "cell_type": "markdown",
   "id": "6da7157f",
   "metadata": {},
   "source": [
    "Get the matrix of token counts."
   ]
  },
  {
   "cell_type": "code",
   "execution_count": 91,
   "id": "e88a4b15",
   "metadata": {},
   "outputs": [],
   "source": [
    "from sklearn.feature_extraction.text import CountVectorizer\n",
    "\n",
    "cv = CountVectorizer(analyzer=clean).fit(df.OriginalTweet)"
   ]
  },
  {
   "cell_type": "code",
   "execution_count": 101,
   "id": "e57ae9fd",
   "metadata": {},
   "outputs": [
    {
     "data": {
      "text/plain": [
       "17027"
      ]
     },
     "execution_count": 101,
     "metadata": {},
     "output_type": "execute_result"
    }
   ],
   "source": [
    "len(cv.vocabulary_)"
   ]
  },
  {
   "cell_type": "markdown",
   "id": "86c9af39",
   "metadata": {},
   "source": [
    "Get the bag of words for a specific tweet."
   ]
  },
  {
   "cell_type": "code",
   "execution_count": 156,
   "id": "3cfd5823",
   "metadata": {},
   "outputs": [
    {
     "data": {
      "text/plain": [
       "\"Two important phone numbers NYers should know. If you have no doctor or insurance and think you may be sick and need to be tested for #coronavirus, call the state's helpline: 1-888-364-3065. To report price gouging, call the Div. of Consumer Protection at 1-800-697-1220.\""
      ]
     },
     "execution_count": 156,
     "metadata": {},
     "output_type": "execute_result"
    }
   ],
   "source": [
    "df.loc[30, 'OriginalTweet']"
   ]
  },
  {
   "cell_type": "code",
   "execution_count": 104,
   "id": "b9f114b4",
   "metadata": {},
   "outputs": [
    {
     "name": "stdout",
     "output_type": "stream",
     "text": [
      "  (0, 108)\t1\n",
      "  (0, 113)\t1\n",
      "  (0, 1458)\t1\n",
      "  (0, 1815)\t1\n",
      "  (0, 3669)\t1\n",
      "  (0, 4229)\t1\n",
      "  (0, 5372)\t1\n",
      "  (0, 6876)\t2\n",
      "  (0, 7542)\t1\n",
      "  (0, 8153)\t1\n",
      "  (0, 9276)\t1\n",
      "  (0, 9535)\t1\n",
      "  (0, 11626)\t1\n",
      "  (0, 11786)\t1\n",
      "  (0, 12040)\t1\n",
      "  (0, 12524)\t1\n",
      "  (0, 12874)\t1\n",
      "  (0, 13033)\t1\n",
      "  (0, 13532)\t1\n",
      "  (0, 13816)\t1\n",
      "  (0, 14309)\t1\n",
      "  (0, 14976)\t1\n",
      "  (0, 15325)\t1\n",
      "  (0, 15794)\t1\n",
      "  (0, 15864)\t1\n"
     ]
    }
   ],
   "source": [
    "bag_30 = cv.transform([df.loc[30, 'OriginalTweet']])\n",
    "print(bag_30)"
   ]
  },
  {
   "cell_type": "markdown",
   "id": "870b81b2",
   "metadata": {},
   "source": [
    "Extract the output feature name searching by an index."
   ]
  },
  {
   "cell_type": "code",
   "execution_count": 116,
   "id": "bb7ed743",
   "metadata": {},
   "outputs": [
    {
     "data": {
      "text/plain": [
       "'call'"
      ]
     },
     "execution_count": 116,
     "metadata": {},
     "output_type": "execute_result"
    }
   ],
   "source": [
    "cv.get_feature_names_out()[6876]"
   ]
  },
  {
   "cell_type": "code",
   "execution_count": 122,
   "id": "c36927e9",
   "metadata": {},
   "outputs": [
    {
     "data": {
      "text/plain": [
       "(1, 17027)"
      ]
     },
     "execution_count": 122,
     "metadata": {},
     "output_type": "execute_result"
    }
   ],
   "source": [
    "bag_30.shape"
   ]
  },
  {
   "cell_type": "markdown",
   "id": "e2773245",
   "metadata": {},
   "source": [
    "Now, get the bag of words for all messages."
   ]
  },
  {
   "cell_type": "code",
   "execution_count": 126,
   "id": "71d2ffa2",
   "metadata": {},
   "outputs": [],
   "source": [
    "bag_all = cv.transform(df['OriginalTweet'])"
   ]
  },
  {
   "cell_type": "markdown",
   "id": "e1ed0c9a",
   "metadata": {},
   "source": [
    "How many nonzero entry does the bag of words for all tweets have?."
   ]
  },
  {
   "cell_type": "code",
   "execution_count": 132,
   "id": "9397cd6f",
   "metadata": {},
   "outputs": [
    {
     "data": {
      "text/plain": [
       "73632"
      ]
     },
     "execution_count": 132,
     "metadata": {},
     "output_type": "execute_result"
    }
   ],
   "source": [
    "bag_all.nnz"
   ]
  },
  {
   "cell_type": "markdown",
   "id": "6f5d819a",
   "metadata": {},
   "source": [
    "Calculate the sparsity of the bag_all."
   ]
  },
  {
   "cell_type": "code",
   "execution_count": 137,
   "id": "3350bfe8",
   "metadata": {},
   "outputs": [
    {
     "name": "stdout",
     "output_type": "stream",
     "text": [
      "The sparsity of the matrix for token counts is 0.11386060852520172\n"
     ]
    }
   ],
   "source": [
    "sparsity = bag_all.nnz / (bag_all.shape[0] * bag_all.shape[1]) * 100\n",
    "print('The sparsity of the matrix for token counts is {}'.format(sparsity))"
   ]
  },
  {
   "cell_type": "code",
   "execution_count": 147,
   "id": "9440ccbf",
   "metadata": {},
   "outputs": [],
   "source": [
    "from sklearn.feature_extraction.text import TfidfTransformer"
   ]
  },
  {
   "cell_type": "code",
   "execution_count": 169,
   "id": "7767558e",
   "metadata": {},
   "outputs": [
    {
     "data": {
      "text/plain": [
       "TfidfTransformer()"
      ]
     },
     "execution_count": 169,
     "metadata": {},
     "output_type": "execute_result"
    }
   ],
   "source": [
    "tfidf = TfidfTransformer()\n",
    "tfidf.fit(bag_all)"
   ]
  },
  {
   "cell_type": "code",
   "execution_count": 170,
   "id": "d49ef630",
   "metadata": {},
   "outputs": [
    {
     "name": "stdout",
     "output_type": "stream",
     "text": [
      "  (0, 15864)\t0.13581336322688947\n",
      "  (0, 15794)\t0.18083305972009306\n",
      "  (0, 15325)\t0.2028673099779884\n",
      "  (0, 14976)\t0.14374337188133682\n",
      "  (0, 14309)\t0.1820585635611603\n",
      "  (0, 13816)\t0.16188185470503247\n",
      "  (0, 13532)\t0.19241090781754688\n",
      "  (0, 13033)\t0.21503964631884862\n",
      "  (0, 12874)\t0.10515342647780267\n",
      "  (0, 12524)\t0.14444977330285744\n",
      "  (0, 12040)\t0.13475989811029668\n",
      "  (0, 11786)\t0.1796556274269479\n",
      "  (0, 11626)\t0.1698862272203001\n",
      "  (0, 9535)\t0.2566571391525049\n",
      "  (0, 9276)\t0.1961683898870247\n",
      "  (0, 8153)\t0.2083407262278849\n",
      "  (0, 7542)\t0.0655056173858688\n",
      "  (0, 6876)\t0.32772391487419184\n",
      "  (0, 5372)\t0.2083407262278849\n",
      "  (0, 4229)\t0.19823960247737388\n",
      "  (0, 3669)\t0.2566571391525049\n",
      "  (0, 1815)\t0.2566571391525049\n",
      "  (0, 1458)\t0.16598194449026607\n",
      "  (0, 113)\t0.2566571391525049\n",
      "  (0, 108)\t0.2566571391525049\n"
     ]
    }
   ],
   "source": [
    "tfidf_30 = tfidf.transform(bag_30)\n",
    "print(tfidf_30)"
   ]
  },
  {
   "cell_type": "code",
   "execution_count": 172,
   "id": "b4d34705",
   "metadata": {},
   "outputs": [],
   "source": [
    "tfidf_all = tfidf.transform(bag_all)"
   ]
  },
  {
   "cell_type": "markdown",
   "id": "87f60c1b",
   "metadata": {},
   "source": [
    "Get the tfidf value for 'coronavirus' and 'covid'. Note that the greater the tfidf values is, the less occurrence it has in the dataset."
   ]
  },
  {
   "cell_type": "code",
   "execution_count": 183,
   "id": "09b7ddd4",
   "metadata": {},
   "outputs": [
    {
     "name": "stdout",
     "output_type": "stream",
     "text": [
      "2.1820167871878247 5.984396615166143\n"
     ]
    }
   ],
   "source": [
    "print(tfidf.idf_[cv.vocabulary_['coronavirus']], tfidf.idf_[cv.vocabulary_['covid']])"
   ]
  },
  {
   "cell_type": "markdown",
   "id": "2bfca630",
   "metadata": {},
   "source": [
    "Predict the sentiment of a specific message with Naive-Bayes."
   ]
  },
  {
   "cell_type": "code",
   "execution_count": 184,
   "id": "d5bd5987",
   "metadata": {},
   "outputs": [],
   "source": [
    "from sklearn.naive_bayes import MultinomialNB"
   ]
  },
  {
   "cell_type": "code",
   "execution_count": 186,
   "id": "bb3a2d0d",
   "metadata": {},
   "outputs": [],
   "source": [
    "model = MultinomialNB().fit(tfidf_all, df.Sentiment)"
   ]
  },
  {
   "cell_type": "code",
   "execution_count": 189,
   "id": "97c1e455",
   "metadata": {},
   "outputs": [
    {
     "data": {
      "text/plain": [
       "array(['Negative'], dtype='<U18')"
      ]
     },
     "execution_count": 189,
     "metadata": {},
     "output_type": "execute_result"
    }
   ],
   "source": [
    "model.predict(bag_30)"
   ]
  },
  {
   "cell_type": "code",
   "execution_count": 193,
   "id": "7e7e64b5",
   "metadata": {},
   "outputs": [
    {
     "data": {
      "text/plain": [
       "'Negative'"
      ]
     },
     "execution_count": 193,
     "metadata": {},
     "output_type": "execute_result"
    }
   ],
   "source": [
    "df.iloc[30, -3]"
   ]
  },
  {
   "cell_type": "markdown",
   "id": "5405ddd6",
   "metadata": {},
   "source": [
    "Predict the sentiment of all tweets."
   ]
  },
  {
   "cell_type": "code",
   "execution_count": 195,
   "id": "8c37c541",
   "metadata": {},
   "outputs": [
    {
     "data": {
      "text/plain": [
       "array(['Negative', 'Positive', 'Extremely Positive', ..., 'Neutral',\n",
       "       'Extremely Negative', 'Extremely Positive'], dtype='<U18')"
      ]
     },
     "execution_count": 195,
     "metadata": {},
     "output_type": "execute_result"
    }
   ],
   "source": [
    "pred = model.predict(bag_all)\n",
    "pred"
   ]
  },
  {
   "cell_type": "code",
   "execution_count": 196,
   "id": "1834e033",
   "metadata": {},
   "outputs": [
    {
     "data": {
      "text/plain": [
       "array([[ 181,    1,  375,    1,   34],\n",
       "       [   0,  229,  187,    0,  183],\n",
       "       [   0,    0, 1031,    1,    9],\n",
       "       [   0,    2,  305,  227,   85],\n",
       "       [   0,    0,  125,    0,  822]], dtype=int64)"
      ]
     },
     "execution_count": 196,
     "metadata": {},
     "output_type": "execute_result"
    }
   ],
   "source": [
    "from sklearn.metrics import confusion_matrix\n",
    "confusion_matrix(df.Sentiment, pred)"
   ]
  },
  {
   "cell_type": "markdown",
   "id": "c78fe744",
   "metadata": {},
   "source": [
    "# Pipeline"
   ]
  },
  {
   "cell_type": "markdown",
   "id": "7ab62f9f",
   "metadata": {},
   "source": [
    "Build a pipeline predicting the sentiment of the tweets, and get the classification report of the model."
   ]
  },
  {
   "cell_type": "code",
   "execution_count": 202,
   "id": "beb02a5b",
   "metadata": {},
   "outputs": [],
   "source": [
    "from sklearn.model_selection import train_test_split\n",
    "\n",
    "X = df.OriginalTweet\n",
    "y = df.Sentiment\n",
    "\n",
    "X_train, X_test, y_train, y_test = train_test_split(X, y, test_size=0.2)"
   ]
  },
  {
   "cell_type": "code",
   "execution_count": 204,
   "id": "5ac32275",
   "metadata": {},
   "outputs": [],
   "source": [
    "from sklearn.pipeline import Pipeline\n",
    "pipeline = Pipeline([\n",
    "    ('vectorizer', CountVectorizer(analyzer=clean)),\n",
    "    ('tfidf', TfidfTransformer()),\n",
    "    ('naive-bayes', MultinomialNB())\n",
    "])"
   ]
  },
  {
   "cell_type": "code",
   "execution_count": 205,
   "id": "dc196b0b",
   "metadata": {},
   "outputs": [
    {
     "data": {
      "text/plain": [
       "Pipeline(steps=[('vectorizer',\n",
       "                 CountVectorizer(analyzer=<function clean at 0x000001BEA3F61AF0>)),\n",
       "                ('tfidf', TfidfTransformer()),\n",
       "                ('naive-bayes', MultinomialNB())])"
      ]
     },
     "execution_count": 205,
     "metadata": {},
     "output_type": "execute_result"
    }
   ],
   "source": [
    "pipeline.fit(X_train, y_train)"
   ]
  },
  {
   "cell_type": "code",
   "execution_count": 206,
   "id": "fc7f55df",
   "metadata": {},
   "outputs": [],
   "source": [
    "predictions = pipeline.predict(X_test)"
   ]
  },
  {
   "cell_type": "code",
   "execution_count": 209,
   "id": "87e1df50",
   "metadata": {},
   "outputs": [
    {
     "name": "stdout",
     "output_type": "stream",
     "text": [
      "[[  1   0 106   0  15]\n",
      " [  0   2  39   0  73]\n",
      " [  0   0 175   0  54]\n",
      " [  0   0  77   3  48]\n",
      " [  0   0  89   0  78]]\n",
      "\n",
      "\n",
      "                    precision    recall  f1-score   support\n",
      "\n",
      "Extremely Negative       1.00      0.01      0.02       122\n",
      "Extremely Positive       1.00      0.02      0.03       114\n",
      "          Negative       0.36      0.76      0.49       229\n",
      "           Neutral       1.00      0.02      0.05       128\n",
      "          Positive       0.29      0.47      0.36       167\n",
      "\n",
      "          accuracy                           0.34       760\n",
      "         macro avg       0.73      0.26      0.19       760\n",
      "      weighted avg       0.65      0.34      0.24       760\n",
      "\n"
     ]
    }
   ],
   "source": [
    "from sklearn.metrics import confusion_matrix, classification_report\n",
    "print((confusion_matrix(y_test, predictions)))\n",
    "print('\\n')\n",
    "print(classification_report(y_test, predictions))"
   ]
  },
  {
   "cell_type": "code",
   "execution_count": null,
   "id": "d7ab1822",
   "metadata": {},
   "outputs": [],
   "source": []
  }
 ],
 "metadata": {
  "kernelspec": {
   "display_name": "Python 3",
   "language": "python",
   "name": "python3"
  },
  "language_info": {
   "codemirror_mode": {
    "name": "ipython",
    "version": 3
   },
   "file_extension": ".py",
   "mimetype": "text/x-python",
   "name": "python",
   "nbconvert_exporter": "python",
   "pygments_lexer": "ipython3",
   "version": "3.8.8"
  }
 },
 "nbformat": 4,
 "nbformat_minor": 5
}
